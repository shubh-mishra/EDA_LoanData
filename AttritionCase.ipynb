{
 "cells": [
  {
   "cell_type": "markdown",
   "metadata": {},
   "source": [
    "# Importing the Libraries"
   ]
  },
  {
   "cell_type": "code",
   "execution_count": 1,
   "metadata": {},
   "outputs": [],
   "source": [
    "## Pandas and Numpy\n",
    "\n",
    "import pandas as pd\n",
    "import numpy as np\n",
    "\n",
    "## Plotting libraries\n",
    "\n",
    "import matplotlib.pyplot as plt\n",
    "import seaborn as sns\n",
    "\n",
    "## Ignore Warnings\n",
    "\n",
    "import warnings\n",
    "warnings.filterwarnings('ignore')\n",
    "\n",
    "## Stats Libraries\n",
    "\n",
    "from scipy.stats import chisquare\n",
    "\n",
    "import statsmodels.api as sm\n",
    "from statsmodels.formula.api import ols\n",
    "\n",
    "## Machine Learning Libraries\n",
    "\n",
    "from sklearn.model_selection import train_test_split\n",
    "from sklearn.tree import DecisionTreeClassifier\n",
    "from sklearn.linear_model import LogisticRegression\n",
    "from sklearn.svm import SVC\n",
    "from sklearn.ensemble import BaggingClassifier\n",
    "from sklearn.ensemble import RandomForestClassifier\n",
    "from sklearn.ensemble import AdaBoostClassifier\n",
    "from sklearn.ensemble import GradientBoostingClassifier\n",
    "from sklearn.metrics import accuracy_score, classification_report, confusion_matrix, f1_score\n",
    "from xgboost import XGBClassifier ## XGBoost Classifier had to installed seperately"
   ]
  },
  {
   "cell_type": "markdown",
   "metadata": {},
   "source": [
    "# Importing and Checking the Data"
   ]
  },
  {
   "cell_type": "code",
   "execution_count": 2,
   "metadata": {},
   "outputs": [],
   "source": [
    "df = pd.read_excel('AttritionData.xlsx')"
   ]
  },
  {
   "cell_type": "code",
   "execution_count": 3,
   "metadata": {},
   "outputs": [
    {
     "name": "stdout",
     "output_type": "stream",
     "text": [
      "Shape of dataset: (1470, 35)\n"
     ]
    }
   ],
   "source": [
    "## Cheking the shape and size of each dataset:\n",
    "\n",
    "print('Shape of dataset:', df.shape)"
   ]
  },
  {
   "cell_type": "code",
   "execution_count": 4,
   "metadata": {},
   "outputs": [
    {
     "data": {
      "text/html": [
       "<div>\n",
       "<style scoped>\n",
       "    .dataframe tbody tr th:only-of-type {\n",
       "        vertical-align: middle;\n",
       "    }\n",
       "\n",
       "    .dataframe tbody tr th {\n",
       "        vertical-align: top;\n",
       "    }\n",
       "\n",
       "    .dataframe thead th {\n",
       "        text-align: right;\n",
       "    }\n",
       "</style>\n",
       "<table border=\"1\" class=\"dataframe\">\n",
       "  <thead>\n",
       "    <tr style=\"text-align: right;\">\n",
       "      <th></th>\n",
       "      <th>Age</th>\n",
       "      <th>BusinessTravel</th>\n",
       "      <th>DailyRate</th>\n",
       "      <th>Department</th>\n",
       "      <th>DistanceFromHome</th>\n",
       "      <th>Education</th>\n",
       "      <th>EducationField</th>\n",
       "      <th>EmployeeCount</th>\n",
       "      <th>EmployeeNumber</th>\n",
       "      <th>EnvironmentSatisfaction</th>\n",
       "      <th>...</th>\n",
       "      <th>StandardHours</th>\n",
       "      <th>StockOptionLevel</th>\n",
       "      <th>TotalWorkingYears</th>\n",
       "      <th>TrainingTimesLastYear</th>\n",
       "      <th>WorkLifeBalance</th>\n",
       "      <th>YearsAtCompany</th>\n",
       "      <th>YearsInCurrentRole</th>\n",
       "      <th>YearsSinceLastPromotion</th>\n",
       "      <th>YearsWithCurrManager</th>\n",
       "      <th>Attrition</th>\n",
       "    </tr>\n",
       "  </thead>\n",
       "  <tbody>\n",
       "    <tr>\n",
       "      <th>0</th>\n",
       "      <td>41</td>\n",
       "      <td>Travel_Rarely</td>\n",
       "      <td>1102</td>\n",
       "      <td>Sales</td>\n",
       "      <td>1</td>\n",
       "      <td>2</td>\n",
       "      <td>Life Sciences</td>\n",
       "      <td>1</td>\n",
       "      <td>1</td>\n",
       "      <td>2</td>\n",
       "      <td>...</td>\n",
       "      <td>80</td>\n",
       "      <td>0</td>\n",
       "      <td>8</td>\n",
       "      <td>0</td>\n",
       "      <td>1</td>\n",
       "      <td>6</td>\n",
       "      <td>4</td>\n",
       "      <td>0</td>\n",
       "      <td>5</td>\n",
       "      <td>Yes</td>\n",
       "    </tr>\n",
       "    <tr>\n",
       "      <th>1</th>\n",
       "      <td>49</td>\n",
       "      <td>Travel_Frequently</td>\n",
       "      <td>279</td>\n",
       "      <td>Research &amp; Development</td>\n",
       "      <td>8</td>\n",
       "      <td>1</td>\n",
       "      <td>Life Sciences</td>\n",
       "      <td>1</td>\n",
       "      <td>2</td>\n",
       "      <td>3</td>\n",
       "      <td>...</td>\n",
       "      <td>80</td>\n",
       "      <td>1</td>\n",
       "      <td>10</td>\n",
       "      <td>3</td>\n",
       "      <td>3</td>\n",
       "      <td>10</td>\n",
       "      <td>7</td>\n",
       "      <td>1</td>\n",
       "      <td>7</td>\n",
       "      <td>No</td>\n",
       "    </tr>\n",
       "    <tr>\n",
       "      <th>2</th>\n",
       "      <td>37</td>\n",
       "      <td>Travel_Rarely</td>\n",
       "      <td>1373</td>\n",
       "      <td>Research &amp; Development</td>\n",
       "      <td>2</td>\n",
       "      <td>2</td>\n",
       "      <td>Other</td>\n",
       "      <td>1</td>\n",
       "      <td>4</td>\n",
       "      <td>4</td>\n",
       "      <td>...</td>\n",
       "      <td>80</td>\n",
       "      <td>0</td>\n",
       "      <td>7</td>\n",
       "      <td>3</td>\n",
       "      <td>3</td>\n",
       "      <td>0</td>\n",
       "      <td>0</td>\n",
       "      <td>0</td>\n",
       "      <td>0</td>\n",
       "      <td>Yes</td>\n",
       "    </tr>\n",
       "    <tr>\n",
       "      <th>3</th>\n",
       "      <td>33</td>\n",
       "      <td>Travel_Frequently</td>\n",
       "      <td>1392</td>\n",
       "      <td>Research &amp; Development</td>\n",
       "      <td>3</td>\n",
       "      <td>4</td>\n",
       "      <td>Life Sciences</td>\n",
       "      <td>1</td>\n",
       "      <td>5</td>\n",
       "      <td>4</td>\n",
       "      <td>...</td>\n",
       "      <td>80</td>\n",
       "      <td>0</td>\n",
       "      <td>8</td>\n",
       "      <td>3</td>\n",
       "      <td>3</td>\n",
       "      <td>8</td>\n",
       "      <td>7</td>\n",
       "      <td>3</td>\n",
       "      <td>0</td>\n",
       "      <td>No</td>\n",
       "    </tr>\n",
       "    <tr>\n",
       "      <th>4</th>\n",
       "      <td>27</td>\n",
       "      <td>Travel_Rarely</td>\n",
       "      <td>591</td>\n",
       "      <td>Research &amp; Development</td>\n",
       "      <td>2</td>\n",
       "      <td>1</td>\n",
       "      <td>Medical</td>\n",
       "      <td>1</td>\n",
       "      <td>7</td>\n",
       "      <td>1</td>\n",
       "      <td>...</td>\n",
       "      <td>80</td>\n",
       "      <td>1</td>\n",
       "      <td>6</td>\n",
       "      <td>3</td>\n",
       "      <td>3</td>\n",
       "      <td>2</td>\n",
       "      <td>2</td>\n",
       "      <td>2</td>\n",
       "      <td>2</td>\n",
       "      <td>No</td>\n",
       "    </tr>\n",
       "  </tbody>\n",
       "</table>\n",
       "<p>5 rows × 35 columns</p>\n",
       "</div>"
      ],
      "text/plain": [
       "   Age     BusinessTravel  DailyRate              Department  \\\n",
       "0   41      Travel_Rarely       1102                   Sales   \n",
       "1   49  Travel_Frequently        279  Research & Development   \n",
       "2   37      Travel_Rarely       1373  Research & Development   \n",
       "3   33  Travel_Frequently       1392  Research & Development   \n",
       "4   27      Travel_Rarely        591  Research & Development   \n",
       "\n",
       "   DistanceFromHome  Education EducationField  EmployeeCount  EmployeeNumber  \\\n",
       "0                 1          2  Life Sciences              1               1   \n",
       "1                 8          1  Life Sciences              1               2   \n",
       "2                 2          2          Other              1               4   \n",
       "3                 3          4  Life Sciences              1               5   \n",
       "4                 2          1        Medical              1               7   \n",
       "\n",
       "   EnvironmentSatisfaction  ... StandardHours  StockOptionLevel  \\\n",
       "0                        2  ...            80                 0   \n",
       "1                        3  ...            80                 1   \n",
       "2                        4  ...            80                 0   \n",
       "3                        4  ...            80                 0   \n",
       "4                        1  ...            80                 1   \n",
       "\n",
       "   TotalWorkingYears  TrainingTimesLastYear WorkLifeBalance  YearsAtCompany  \\\n",
       "0                  8                      0               1               6   \n",
       "1                 10                      3               3              10   \n",
       "2                  7                      3               3               0   \n",
       "3                  8                      3               3               8   \n",
       "4                  6                      3               3               2   \n",
       "\n",
       "  YearsInCurrentRole  YearsSinceLastPromotion  YearsWithCurrManager  Attrition  \n",
       "0                  4                        0                     5        Yes  \n",
       "1                  7                        1                     7         No  \n",
       "2                  0                        0                     0        Yes  \n",
       "3                  7                        3                     0         No  \n",
       "4                  2                        2                     2         No  \n",
       "\n",
       "[5 rows x 35 columns]"
      ]
     },
     "execution_count": 4,
     "metadata": {},
     "output_type": "execute_result"
    }
   ],
   "source": [
    "## Checking the column names and top 5 rows of each of the Datasets\n",
    "\n",
    "df.head()"
   ]
  },
  {
   "cell_type": "markdown",
   "metadata": {},
   "source": [
    "# Data Cleansing"
   ]
  },
  {
   "cell_type": "code",
   "execution_count": 5,
   "metadata": {},
   "outputs": [
    {
     "name": "stdout",
     "output_type": "stream",
     "text": [
      "<class 'pandas.core.frame.DataFrame'>\n",
      "RangeIndex: 1470 entries, 0 to 1469\n",
      "Data columns (total 35 columns):\n",
      " #   Column                    Non-Null Count  Dtype \n",
      "---  ------                    --------------  ----- \n",
      " 0   Age                       1470 non-null   int64 \n",
      " 1   BusinessTravel            1470 non-null   object\n",
      " 2   DailyRate                 1470 non-null   int64 \n",
      " 3   Department                1470 non-null   object\n",
      " 4   DistanceFromHome          1470 non-null   int64 \n",
      " 5   Education                 1470 non-null   int64 \n",
      " 6   EducationField            1470 non-null   object\n",
      " 7   EmployeeCount             1470 non-null   int64 \n",
      " 8   EmployeeNumber            1470 non-null   int64 \n",
      " 9   EnvironmentSatisfaction   1470 non-null   int64 \n",
      " 10  Gender                    1470 non-null   object\n",
      " 11  HourlyRate                1470 non-null   int64 \n",
      " 12  JobInvolvement            1470 non-null   int64 \n",
      " 13  JobLevel                  1470 non-null   int64 \n",
      " 14  JobRole                   1470 non-null   object\n",
      " 15  JobSatisfaction           1470 non-null   int64 \n",
      " 16  MaritalStatus             1470 non-null   object\n",
      " 17  MonthlyIncome             1470 non-null   int64 \n",
      " 18  MonthlyRate               1470 non-null   int64 \n",
      " 19  NumCompaniesWorked        1470 non-null   int64 \n",
      " 20  Over18                    1470 non-null   object\n",
      " 21  OverTime                  1470 non-null   object\n",
      " 22  PercentSalaryHike         1470 non-null   int64 \n",
      " 23  PerformanceRating         1470 non-null   int64 \n",
      " 24  RelationshipSatisfaction  1470 non-null   int64 \n",
      " 25  StandardHours             1470 non-null   int64 \n",
      " 26  StockOptionLevel          1470 non-null   int64 \n",
      " 27  TotalWorkingYears         1470 non-null   int64 \n",
      " 28  TrainingTimesLastYear     1470 non-null   int64 \n",
      " 29  WorkLifeBalance           1470 non-null   int64 \n",
      " 30  YearsAtCompany            1470 non-null   int64 \n",
      " 31  YearsInCurrentRole        1470 non-null   int64 \n",
      " 32  YearsSinceLastPromotion   1470 non-null   int64 \n",
      " 33  YearsWithCurrManager      1470 non-null   int64 \n",
      " 34  Attrition                 1470 non-null   object\n",
      "dtypes: int64(26), object(9)\n",
      "memory usage: 402.1+ KB\n"
     ]
    }
   ],
   "source": [
    "## Checking for null values and datatypes\n",
    "\n",
    "df.info()"
   ]
  },
  {
   "cell_type": "code",
   "execution_count": 6,
   "metadata": {},
   "outputs": [
    {
     "data": {
      "text/html": [
       "<div>\n",
       "<style scoped>\n",
       "    .dataframe tbody tr th:only-of-type {\n",
       "        vertical-align: middle;\n",
       "    }\n",
       "\n",
       "    .dataframe tbody tr th {\n",
       "        vertical-align: top;\n",
       "    }\n",
       "\n",
       "    .dataframe thead th {\n",
       "        text-align: right;\n",
       "    }\n",
       "</style>\n",
       "<table border=\"1\" class=\"dataframe\">\n",
       "  <thead>\n",
       "    <tr style=\"text-align: right;\">\n",
       "      <th></th>\n",
       "      <th>Age</th>\n",
       "      <th>DailyRate</th>\n",
       "      <th>DistanceFromHome</th>\n",
       "      <th>Education</th>\n",
       "      <th>EmployeeCount</th>\n",
       "      <th>EmployeeNumber</th>\n",
       "      <th>EnvironmentSatisfaction</th>\n",
       "      <th>HourlyRate</th>\n",
       "      <th>JobInvolvement</th>\n",
       "      <th>JobLevel</th>\n",
       "      <th>...</th>\n",
       "      <th>RelationshipSatisfaction</th>\n",
       "      <th>StandardHours</th>\n",
       "      <th>StockOptionLevel</th>\n",
       "      <th>TotalWorkingYears</th>\n",
       "      <th>TrainingTimesLastYear</th>\n",
       "      <th>WorkLifeBalance</th>\n",
       "      <th>YearsAtCompany</th>\n",
       "      <th>YearsInCurrentRole</th>\n",
       "      <th>YearsSinceLastPromotion</th>\n",
       "      <th>YearsWithCurrManager</th>\n",
       "    </tr>\n",
       "  </thead>\n",
       "  <tbody>\n",
       "    <tr>\n",
       "      <th>count</th>\n",
       "      <td>1470.000000</td>\n",
       "      <td>1470.000000</td>\n",
       "      <td>1470.000000</td>\n",
       "      <td>1470.000000</td>\n",
       "      <td>1470.0</td>\n",
       "      <td>1470.000000</td>\n",
       "      <td>1470.000000</td>\n",
       "      <td>1470.000000</td>\n",
       "      <td>1470.000000</td>\n",
       "      <td>1470.000000</td>\n",
       "      <td>...</td>\n",
       "      <td>1470.000000</td>\n",
       "      <td>1470.0</td>\n",
       "      <td>1470.000000</td>\n",
       "      <td>1470.000000</td>\n",
       "      <td>1470.000000</td>\n",
       "      <td>1470.000000</td>\n",
       "      <td>1470.000000</td>\n",
       "      <td>1470.000000</td>\n",
       "      <td>1470.000000</td>\n",
       "      <td>1470.000000</td>\n",
       "    </tr>\n",
       "    <tr>\n",
       "      <th>mean</th>\n",
       "      <td>36.923810</td>\n",
       "      <td>802.485714</td>\n",
       "      <td>9.192517</td>\n",
       "      <td>2.912925</td>\n",
       "      <td>1.0</td>\n",
       "      <td>1024.865306</td>\n",
       "      <td>2.721769</td>\n",
       "      <td>65.891156</td>\n",
       "      <td>2.729932</td>\n",
       "      <td>2.063946</td>\n",
       "      <td>...</td>\n",
       "      <td>2.712245</td>\n",
       "      <td>80.0</td>\n",
       "      <td>0.793878</td>\n",
       "      <td>11.279592</td>\n",
       "      <td>2.799320</td>\n",
       "      <td>2.761224</td>\n",
       "      <td>7.008163</td>\n",
       "      <td>4.229252</td>\n",
       "      <td>2.187755</td>\n",
       "      <td>4.123129</td>\n",
       "    </tr>\n",
       "    <tr>\n",
       "      <th>std</th>\n",
       "      <td>9.135373</td>\n",
       "      <td>403.509100</td>\n",
       "      <td>8.106864</td>\n",
       "      <td>1.024165</td>\n",
       "      <td>0.0</td>\n",
       "      <td>602.024335</td>\n",
       "      <td>1.093082</td>\n",
       "      <td>20.329428</td>\n",
       "      <td>0.711561</td>\n",
       "      <td>1.106940</td>\n",
       "      <td>...</td>\n",
       "      <td>1.081209</td>\n",
       "      <td>0.0</td>\n",
       "      <td>0.852077</td>\n",
       "      <td>7.780782</td>\n",
       "      <td>1.289271</td>\n",
       "      <td>0.706476</td>\n",
       "      <td>6.126525</td>\n",
       "      <td>3.623137</td>\n",
       "      <td>3.222430</td>\n",
       "      <td>3.568136</td>\n",
       "    </tr>\n",
       "    <tr>\n",
       "      <th>min</th>\n",
       "      <td>18.000000</td>\n",
       "      <td>102.000000</td>\n",
       "      <td>1.000000</td>\n",
       "      <td>1.000000</td>\n",
       "      <td>1.0</td>\n",
       "      <td>1.000000</td>\n",
       "      <td>1.000000</td>\n",
       "      <td>30.000000</td>\n",
       "      <td>1.000000</td>\n",
       "      <td>1.000000</td>\n",
       "      <td>...</td>\n",
       "      <td>1.000000</td>\n",
       "      <td>80.0</td>\n",
       "      <td>0.000000</td>\n",
       "      <td>0.000000</td>\n",
       "      <td>0.000000</td>\n",
       "      <td>1.000000</td>\n",
       "      <td>0.000000</td>\n",
       "      <td>0.000000</td>\n",
       "      <td>0.000000</td>\n",
       "      <td>0.000000</td>\n",
       "    </tr>\n",
       "    <tr>\n",
       "      <th>25%</th>\n",
       "      <td>30.000000</td>\n",
       "      <td>465.000000</td>\n",
       "      <td>2.000000</td>\n",
       "      <td>2.000000</td>\n",
       "      <td>1.0</td>\n",
       "      <td>491.250000</td>\n",
       "      <td>2.000000</td>\n",
       "      <td>48.000000</td>\n",
       "      <td>2.000000</td>\n",
       "      <td>1.000000</td>\n",
       "      <td>...</td>\n",
       "      <td>2.000000</td>\n",
       "      <td>80.0</td>\n",
       "      <td>0.000000</td>\n",
       "      <td>6.000000</td>\n",
       "      <td>2.000000</td>\n",
       "      <td>2.000000</td>\n",
       "      <td>3.000000</td>\n",
       "      <td>2.000000</td>\n",
       "      <td>0.000000</td>\n",
       "      <td>2.000000</td>\n",
       "    </tr>\n",
       "    <tr>\n",
       "      <th>50%</th>\n",
       "      <td>36.000000</td>\n",
       "      <td>802.000000</td>\n",
       "      <td>7.000000</td>\n",
       "      <td>3.000000</td>\n",
       "      <td>1.0</td>\n",
       "      <td>1020.500000</td>\n",
       "      <td>3.000000</td>\n",
       "      <td>66.000000</td>\n",
       "      <td>3.000000</td>\n",
       "      <td>2.000000</td>\n",
       "      <td>...</td>\n",
       "      <td>3.000000</td>\n",
       "      <td>80.0</td>\n",
       "      <td>1.000000</td>\n",
       "      <td>10.000000</td>\n",
       "      <td>3.000000</td>\n",
       "      <td>3.000000</td>\n",
       "      <td>5.000000</td>\n",
       "      <td>3.000000</td>\n",
       "      <td>1.000000</td>\n",
       "      <td>3.000000</td>\n",
       "    </tr>\n",
       "    <tr>\n",
       "      <th>75%</th>\n",
       "      <td>43.000000</td>\n",
       "      <td>1157.000000</td>\n",
       "      <td>14.000000</td>\n",
       "      <td>4.000000</td>\n",
       "      <td>1.0</td>\n",
       "      <td>1555.750000</td>\n",
       "      <td>4.000000</td>\n",
       "      <td>83.750000</td>\n",
       "      <td>3.000000</td>\n",
       "      <td>3.000000</td>\n",
       "      <td>...</td>\n",
       "      <td>4.000000</td>\n",
       "      <td>80.0</td>\n",
       "      <td>1.000000</td>\n",
       "      <td>15.000000</td>\n",
       "      <td>3.000000</td>\n",
       "      <td>3.000000</td>\n",
       "      <td>9.000000</td>\n",
       "      <td>7.000000</td>\n",
       "      <td>3.000000</td>\n",
       "      <td>7.000000</td>\n",
       "    </tr>\n",
       "    <tr>\n",
       "      <th>max</th>\n",
       "      <td>60.000000</td>\n",
       "      <td>1499.000000</td>\n",
       "      <td>29.000000</td>\n",
       "      <td>5.000000</td>\n",
       "      <td>1.0</td>\n",
       "      <td>2068.000000</td>\n",
       "      <td>4.000000</td>\n",
       "      <td>100.000000</td>\n",
       "      <td>4.000000</td>\n",
       "      <td>5.000000</td>\n",
       "      <td>...</td>\n",
       "      <td>4.000000</td>\n",
       "      <td>80.0</td>\n",
       "      <td>3.000000</td>\n",
       "      <td>40.000000</td>\n",
       "      <td>6.000000</td>\n",
       "      <td>4.000000</td>\n",
       "      <td>40.000000</td>\n",
       "      <td>18.000000</td>\n",
       "      <td>15.000000</td>\n",
       "      <td>17.000000</td>\n",
       "    </tr>\n",
       "  </tbody>\n",
       "</table>\n",
       "<p>8 rows × 26 columns</p>\n",
       "</div>"
      ],
      "text/plain": [
       "               Age    DailyRate  DistanceFromHome    Education  EmployeeCount  \\\n",
       "count  1470.000000  1470.000000       1470.000000  1470.000000         1470.0   \n",
       "mean     36.923810   802.485714          9.192517     2.912925            1.0   \n",
       "std       9.135373   403.509100          8.106864     1.024165            0.0   \n",
       "min      18.000000   102.000000          1.000000     1.000000            1.0   \n",
       "25%      30.000000   465.000000          2.000000     2.000000            1.0   \n",
       "50%      36.000000   802.000000          7.000000     3.000000            1.0   \n",
       "75%      43.000000  1157.000000         14.000000     4.000000            1.0   \n",
       "max      60.000000  1499.000000         29.000000     5.000000            1.0   \n",
       "\n",
       "       EmployeeNumber  EnvironmentSatisfaction   HourlyRate  JobInvolvement  \\\n",
       "count     1470.000000              1470.000000  1470.000000     1470.000000   \n",
       "mean      1024.865306                 2.721769    65.891156        2.729932   \n",
       "std        602.024335                 1.093082    20.329428        0.711561   \n",
       "min          1.000000                 1.000000    30.000000        1.000000   \n",
       "25%        491.250000                 2.000000    48.000000        2.000000   \n",
       "50%       1020.500000                 3.000000    66.000000        3.000000   \n",
       "75%       1555.750000                 4.000000    83.750000        3.000000   \n",
       "max       2068.000000                 4.000000   100.000000        4.000000   \n",
       "\n",
       "          JobLevel  ...  RelationshipSatisfaction  StandardHours  \\\n",
       "count  1470.000000  ...               1470.000000         1470.0   \n",
       "mean      2.063946  ...                  2.712245           80.0   \n",
       "std       1.106940  ...                  1.081209            0.0   \n",
       "min       1.000000  ...                  1.000000           80.0   \n",
       "25%       1.000000  ...                  2.000000           80.0   \n",
       "50%       2.000000  ...                  3.000000           80.0   \n",
       "75%       3.000000  ...                  4.000000           80.0   \n",
       "max       5.000000  ...                  4.000000           80.0   \n",
       "\n",
       "       StockOptionLevel  TotalWorkingYears  TrainingTimesLastYear  \\\n",
       "count       1470.000000        1470.000000            1470.000000   \n",
       "mean           0.793878          11.279592               2.799320   \n",
       "std            0.852077           7.780782               1.289271   \n",
       "min            0.000000           0.000000               0.000000   \n",
       "25%            0.000000           6.000000               2.000000   \n",
       "50%            1.000000          10.000000               3.000000   \n",
       "75%            1.000000          15.000000               3.000000   \n",
       "max            3.000000          40.000000               6.000000   \n",
       "\n",
       "       WorkLifeBalance  YearsAtCompany  YearsInCurrentRole  \\\n",
       "count      1470.000000     1470.000000         1470.000000   \n",
       "mean          2.761224        7.008163            4.229252   \n",
       "std           0.706476        6.126525            3.623137   \n",
       "min           1.000000        0.000000            0.000000   \n",
       "25%           2.000000        3.000000            2.000000   \n",
       "50%           3.000000        5.000000            3.000000   \n",
       "75%           3.000000        9.000000            7.000000   \n",
       "max           4.000000       40.000000           18.000000   \n",
       "\n",
       "       YearsSinceLastPromotion  YearsWithCurrManager  \n",
       "count              1470.000000           1470.000000  \n",
       "mean                  2.187755              4.123129  \n",
       "std                   3.222430              3.568136  \n",
       "min                   0.000000              0.000000  \n",
       "25%                   0.000000              2.000000  \n",
       "50%                   1.000000              3.000000  \n",
       "75%                   3.000000              7.000000  \n",
       "max                  15.000000             17.000000  \n",
       "\n",
       "[8 rows x 26 columns]"
      ]
     },
     "execution_count": 6,
     "metadata": {},
     "output_type": "execute_result"
    }
   ],
   "source": [
    "## Checking for summary of the numeric variables\n",
    "\n",
    "df.describe()"
   ]
  },
  {
   "cell_type": "code",
   "execution_count": 7,
   "metadata": {},
   "outputs": [
    {
     "data": {
      "text/plain": [
       "Index(['Age', 'BusinessTravel', 'DailyRate', 'Department', 'DistanceFromHome',\n",
       "       'Education', 'EducationField', 'EmployeeCount', 'EmployeeNumber',\n",
       "       'EnvironmentSatisfaction', 'Gender', 'HourlyRate', 'JobInvolvement',\n",
       "       'JobLevel', 'JobRole', 'JobSatisfaction', 'MaritalStatus',\n",
       "       'MonthlyIncome', 'MonthlyRate', 'NumCompaniesWorked', 'Over18',\n",
       "       'OverTime', 'PercentSalaryHike', 'PerformanceRating',\n",
       "       'RelationshipSatisfaction', 'StandardHours', 'StockOptionLevel',\n",
       "       'TotalWorkingYears', 'TrainingTimesLastYear', 'WorkLifeBalance',\n",
       "       'YearsAtCompany', 'YearsInCurrentRole', 'YearsSinceLastPromotion',\n",
       "       'YearsWithCurrManager', 'Attrition'],\n",
       "      dtype='object')"
      ]
     },
     "execution_count": 7,
     "metadata": {},
     "output_type": "execute_result"
    }
   ],
   "source": [
    "df.columns"
   ]
  },
  {
   "cell_type": "code",
   "execution_count": 8,
   "metadata": {},
   "outputs": [],
   "source": [
    "## Dropping redundant columns\n",
    "\n",
    "df = df.drop(['DailyRate','EmployeeCount','EmployeeNumber','HourlyRate','MonthlyRate','Over18','StandardHours'], axis = 1)"
   ]
  },
  {
   "cell_type": "markdown",
   "metadata": {},
   "source": [
    "## Exploratory Analysis"
   ]
  },
  {
   "cell_type": "markdown",
   "metadata": {},
   "source": [
    "### Age"
   ]
  },
  {
   "cell_type": "code",
   "execution_count": 9,
   "metadata": {},
   "outputs": [
    {
     "data": {
      "image/png": "[encoded data removed]",
      "text/plain": [
       "<Figure size 432x288 with 1 Axes>"
      ]
     },
     "metadata": {
      "needs_background": "light"
     },
     "output_type": "display_data"
    }
   ],
   "source": [
    "## Checking the distribution of age\n",
    "\n",
    "sns.histplot(x = df.Age);"
   ]
  },
  {
   "cell_type": "code",
   "execution_count": 10,
   "metadata": {},
   "outputs": [
    {
     "data": {
      "image/png": "[encoded data removed]",
      "text/plain": [
       "<Figure size 432x288 with 1 Axes>"
      ]
     },
     "metadata": {
      "needs_background": "light"
     },
     "output_type": "display_data"
    }
   ],
   "source": [
    "## Comparison of ages of people who quit\n",
    "\n",
    "sns.boxplot(y = df.Age, x = df.Attrition);"
   ]
  },
  {
   "cell_type": "code",
   "execution_count": 11,
   "metadata": {},
   "outputs": [
    {
     "name": "stdout",
     "output_type": "stream",
     "text": [
      "                  sum_sq      df          F        PR(>F)\n",
      "Attrition    3107.333411     1.0  38.175887  8.356308e-10\n",
      "Residual   119488.133255  1468.0        NaN           NaN\n"
     ]
    }
   ],
   "source": [
    "## We see that people who churned have a lower average age. We can confirm this with an ANOVA test\n",
    "## NULL Hypothesis is that the average age for people who churn and those----\n",
    "## ----who do not is the same (difference is not statistically significant)\n",
    "\n",
    "mod = ols('Age ~ Attrition', data = df).fit()\n",
    "aov_table = sm.stats.anova_lm(mod, typ = 2)\n",
    "print(aov_table)"
   ]
  },
  {
   "cell_type": "markdown",
   "metadata": {},
   "source": [
    "##### Since p value <0.05 we reject the null hypothesis. We see that people who have churned have lower Age on average."
   ]
  },
  {
   "cell_type": "markdown",
   "metadata": {},
   "source": [
    "### Business Travel"
   ]
  },
  {
   "cell_type": "code",
   "execution_count": 12,
   "metadata": {},
   "outputs": [
    {
     "data": {
      "image/png": "[encoded data removed]",
      "text/plain": [
       "<Figure size 432x288 with 1 Axes>"
      ]
     },
     "metadata": {
      "needs_background": "light"
     },
     "output_type": "display_data"
    }
   ],
   "source": [
    "## Checking the distribution of business travel\n",
    "\n",
    "sns.countplot(x = df.BusinessTravel);"
   ]
  },
  {
   "cell_type": "code",
   "execution_count": 13,
   "metadata": {},
   "outputs": [
    {
     "data": {
      "text/plain": [
       "Travel_Rarely        1043\n",
       "Travel_Frequently     277\n",
       "Non-Travel            150\n",
       "Name: BusinessTravel, dtype: int64"
      ]
     },
     "execution_count": 13,
     "metadata": {},
     "output_type": "execute_result"
    }
   ],
   "source": [
    "df.BusinessTravel.value_counts()"
   ]
  },
  {
   "cell_type": "code",
   "execution_count": 14,
   "metadata": {},
   "outputs": [
    {
     "data": {
      "image/png": "[encoded data removed]",
      "text/plain": [
       "<Figure size 432x288 with 1 Axes>"
      ]
     },
     "metadata": {
      "needs_background": "light"
     },
     "output_type": "display_data"
    }
   ],
   "source": [
    "sns.countplot(x = df.BusinessTravel, hue = df.Attrition);"
   ]
  },
  {
   "cell_type": "code",
   "execution_count": 15,
   "metadata": {},
   "outputs": [
    {
     "name": "stdout",
     "output_type": "stream",
     "text": [
      "Percentage Churn in All Employees is 16.12 percent\n",
      "Percentage Churn in Travel Rarely group is 14.96 percent\n",
      "Percentage Churn in Travel Frequently group is 24.91 percent\n",
      "Percentage Churn in Non-Travel group is 8.0 percent\n"
     ]
    }
   ],
   "source": [
    "## Comparing Total Churn to Churn amongst different Categories of Business Travel\n",
    "\n",
    "print('Percentage Churn in All Employees is',round(100*df.Attrition.value_counts(1)[1],2),'percent')\n",
    "print('Percentage Churn in Travel Rarely group is',round(100* df[df.BusinessTravel =='Travel_Rarely'].Attrition.value_counts(1)[1],2),'percent')\n",
    "print('Percentage Churn in Travel Frequently group is',round(100* df[df.BusinessTravel =='Travel_Frequently'].Attrition.value_counts(1)[1],2),'percent')\n",
    "print('Percentage Churn in Non-Travel group is',round(100* df[df.BusinessTravel =='Non-Travel'].Attrition.value_counts(1)[1],2),'percent')"
   ]
  },
  {
   "cell_type": "code",
   "execution_count": 16,
   "metadata": {},
   "outputs": [
    {
     "data": {
      "text/plain": [
       "Power_divergenceResult(statistic=8.966755583126549, pvalue=0.011295195828747618)"
      ]
     },
     "execution_count": 16,
     "metadata": {},
     "output_type": "execute_result"
    }
   ],
   "source": [
    "## Testing the hypothesis that Churn is independent of amount of travel with chi-square test\n",
    "## Null Hypothesis is that Churn is similar for all groups therefore Churn is independent of amount of travel\n",
    "\n",
    "chisquare([14.96,24.91,8], f_exp = [16.12,16.12,16.12])"
   ]
  },
  {
   "cell_type": "markdown",
   "metadata": {},
   "source": [
    "##### Since p value <0.05 we reject the null hypothesis. We see that people who have churned travel more frequently"
   ]
  },
  {
   "cell_type": "markdown",
   "metadata": {},
   "source": [
    "### Department"
   ]
  },
  {
   "cell_type": "code",
   "execution_count": 17,
   "metadata": {},
   "outputs": [
    {
     "data": {
      "image/png": "[encoded data removed]",
      "text/plain": [
       "<Figure size 432x288 with 1 Axes>"
      ]
     },
     "metadata": {
      "needs_background": "light"
     },
     "output_type": "display_data"
    }
   ],
   "source": [
    "## Checking the distribution of Department\n",
    "\n",
    "sns.countplot(x = df.Department);"
   ]
  },
  {
   "cell_type": "code",
   "execution_count": 18,
   "metadata": {},
   "outputs": [
    {
     "data": {
      "text/plain": [
       "Research & Development    961\n",
       "Sales                     446\n",
       "Human Resources            63\n",
       "Name: Department, dtype: int64"
      ]
     },
     "execution_count": 18,
     "metadata": {},
     "output_type": "execute_result"
    }
   ],
   "source": [
    "df.Department.value_counts()"
   ]
  },
  {
   "cell_type": "code",
   "execution_count": 19,
   "metadata": {},
   "outputs": [
    {
     "data": {
      "image/png": "[encoded data removed]",
      "text/plain": [
       "<Figure size 432x288 with 1 Axes>"
      ]
     },
     "metadata": {
      "needs_background": "light"
     },
     "output_type": "display_data"
    }
   ],
   "source": [
    "sns.countplot(x = df.Department, hue = df.Attrition);"
   ]
  },
  {
   "cell_type": "code",
   "execution_count": 20,
   "metadata": {},
   "outputs": [
    {
     "name": "stdout",
     "output_type": "stream",
     "text": [
      "Percentage Churn in All Employees is 16.12 percent\n",
      "Percentage Churn in Sales group is 13.84 percent\n",
      "Percentage Churn in R&D group is 20.63 percent\n",
      "Percentage Churn in HR group is 19.05 percent\n"
     ]
    }
   ],
   "source": [
    "## Comparing Total Churn to Churn amongst different Categories of Business Travel\n",
    "\n",
    "print('Percentage Churn in All Employees is',round(100*df.Attrition.value_counts(1)[1],2),'percent')\n",
    "print('Percentage Churn in Sales group is',round(100* df[df.Department =='Research & Development'].Attrition.value_counts(1)[1],2),'percent')\n",
    "print('Percentage Churn in R&D group is',round(100* df[df.Department =='Sales'].Attrition.value_counts(1)[1],2),'percent')\n",
    "print('Percentage Churn in HR group is',round(100* df[df.Department =='Human Resources'].Attrition.value_counts(1)[1],2),'percent')"
   ]
  },
  {
   "cell_type": "code",
   "execution_count": 21,
   "metadata": {},
   "outputs": [
    {
     "data": {
      "text/plain": [
       "Power_divergenceResult(statistic=2.1168362282878403, pvalue=0.3470042975839136)"
      ]
     },
     "execution_count": 21,
     "metadata": {},
     "output_type": "execute_result"
    }
   ],
   "source": [
    "## Testing the hypothesis that Churn is independent of Department with chi-square test\n",
    "## Null Hypothesis is that Churn is similar for all groups therefore Churn is independent of Department\n",
    "\n",
    "chisquare([13.84,20.63,19.05], f_exp = [16.12,16.12,16.12])"
   ]
  },
  {
   "cell_type": "markdown",
   "metadata": {},
   "source": [
    "##### Since p value >0.05 we fail to reject the null hypothesis. We see that churn is independent of Department"
   ]
  },
  {
   "cell_type": "markdown",
   "metadata": {},
   "source": [
    "### Distance From Home"
   ]
  },
  {
   "cell_type": "code",
   "execution_count": 22,
   "metadata": {},
   "outputs": [
    {
     "data": {
      "image/png": "[encoded data removed]",
      "text/plain": [
       "<Figure size 432x288 with 1 Axes>"
      ]
     },
     "metadata": {
      "needs_background": "light"
     },
     "output_type": "display_data"
    }
   ],
   "source": [
    "## Checking the distribution of Distance From Home\n",
    "\n",
    "sns.histplot(x = df.DistanceFromHome);"
   ]
  },
  {
   "cell_type": "code",
   "execution_count": 23,
   "metadata": {},
   "outputs": [
    {
     "data": {
      "image/png": "[encoded data removed]",
      "text/plain": [
       "<Figure size 432x288 with 1 Axes>"
      ]
     },
     "metadata": {
      "needs_background": "light"
     },
     "output_type": "display_data"
    }
   ],
   "source": [
    "## Comparison of Distance of home of people who quit and those who stayed\n",
    "\n",
    "sns.boxplot(y = df.DistanceFromHome, x = df.Attrition);"
   ]
  },
  {
   "cell_type": "code",
   "execution_count": 24,
   "metadata": {},
   "outputs": [
    {
     "name": "stdout",
     "output_type": "stream",
     "text": [
      "                 sum_sq      df         F    PR(>F)\n",
      "Attrition    586.226497     1.0  8.968277  0.002793\n",
      "Residual   95958.291191  1468.0       NaN       NaN\n"
     ]
    }
   ],
   "source": [
    "## We see that people who churned have a higher average distance from home. We can confirm this with an ANOVA test\n",
    "## NULL Hypothesis is that the average distance from home for people who churn and those----\n",
    "## ----who do not is the same (difference is not statistically significant)\n",
    "\n",
    "mod = ols('DistanceFromHome ~ Attrition', data = df).fit()\n",
    "aov_table = sm.stats.anova_lm(mod, typ = 2)\n",
    "print(aov_table)"
   ]
  },
  {
   "cell_type": "markdown",
   "metadata": {},
   "source": [
    "##### Since p value <0.05 we reject the null hypothesis. We see that people who have churned have higher distance from home on average."
   ]
  },
  {
   "cell_type": "markdown",
   "metadata": {},
   "source": [
    "### Education"
   ]
  },
  {
   "cell_type": "code",
   "execution_count": 25,
   "metadata": {},
   "outputs": [
    {
     "data": {
      "image/png": "[encoded data removed]",
      "text/plain": [
       "<Figure size 432x288 with 1 Axes>"
      ]
     },
     "metadata": {
      "needs_background": "light"
     },
     "output_type": "display_data"
    }
   ],
   "source": [
    "## distribution of education\n",
    "\n",
    "sns.countplot(df.Education);"
   ]
  },
  {
   "cell_type": "code",
   "execution_count": 26,
   "metadata": {},
   "outputs": [
    {
     "data": {
      "text/plain": [
       "3    572\n",
       "4    398\n",
       "2    282\n",
       "1    170\n",
       "5     48\n",
       "Name: Education, dtype: int64"
      ]
     },
     "execution_count": 26,
     "metadata": {},
     "output_type": "execute_result"
    }
   ],
   "source": [
    "df.Education.value_counts()"
   ]
  },
  {
   "cell_type": "code",
   "execution_count": 27,
   "metadata": {},
   "outputs": [
    {
     "data": {
      "image/png": "[encoded data removed]",
      "text/plain": [
       "<Figure size 432x288 with 1 Axes>"
      ]
     },
     "metadata": {
      "needs_background": "light"
     },
     "output_type": "display_data"
    }
   ],
   "source": [
    "sns.countplot(df.Education, hue = df.Attrition);"
   ]
  },
  {
   "cell_type": "code",
   "execution_count": 28,
   "metadata": {},
   "outputs": [
    {
     "name": "stdout",
     "output_type": "stream",
     "text": [
      "Percentage Churn in All Employees is 16.12 percent\n",
      "Percentage Churn in Education Level 1 is 18.24 percent\n",
      "Percentage Churn in Education Level 2 is 15.6 percent\n",
      "Percentage Churn in Education Level 3 is 17.31 percent\n",
      "Percentage Churn in Education Level 4 is 14.57 percent\n",
      "Percentage Churn in Education Level 5 is 10.42 percent\n"
     ]
    }
   ],
   "source": [
    "## Comparing Total Churn to Churn amongst different Categories of Business Travel\n",
    "\n",
    "print('Percentage Churn in All Employees is',round(100*df.Attrition.value_counts(1)[1],2),'percent')\n",
    "print('Percentage Churn in Education Level 1 is',round(100* df[df.Education ==1].Attrition.value_counts(1)[1],2),'percent')\n",
    "print('Percentage Churn in Education Level 2 is',round(100* df[df.Education ==2].Attrition.value_counts(1)[1],2),'percent')\n",
    "print('Percentage Churn in Education Level 3 is',round(100* df[df.Education ==3].Attrition.value_counts(1)[1],2),'percent')\n",
    "print('Percentage Churn in Education Level 4 is',round(100* df[df.Education ==4].Attrition.value_counts(1)[1],2),'percent')\n",
    "print('Percentage Churn in Education Level 5 is',round(100* df[df.Education ==5].Attrition.value_counts(1)[1],2),'percent')"
   ]
  },
  {
   "cell_type": "code",
   "execution_count": 29,
   "metadata": {},
   "outputs": [
    {
     "data": {
      "text/plain": [
       "Power_divergenceResult(statistic=2.547977667493796, pvalue=0.6360657446889251)"
      ]
     },
     "execution_count": 29,
     "metadata": {},
     "output_type": "execute_result"
    }
   ],
   "source": [
    "## Testing the hypothesis that Churn is independent of Education Level with chi-square test\n",
    "## Null Hypothesis is that Churn is similar for all levels of education therefore Churn is independent of Education level\n",
    "\n",
    "chisquare([18.24,15.60,17.31,14.57,10.42], f_exp = [16.12,16.12,16.12,16.12,16.12])"
   ]
  },
  {
   "cell_type": "markdown",
   "metadata": {},
   "source": [
    "##### Since p value > 0.05 therefore we fail to reject the Null Hypothesis\n",
    "##### Therefore we conclude on the basis of the plots, percentage of Churn for each Education Level and Chi-Square Test that Churn is independent of Education Level"
   ]
  },
  {
   "cell_type": "markdown",
   "metadata": {},
   "source": [
    "### Education Field"
   ]
  },
  {
   "cell_type": "code",
   "execution_count": 30,
   "metadata": {},
   "outputs": [
    {
     "data": {
      "image/png": "[encoded data removed]",
      "text/plain": [
       "<Figure size 432x288 with 1 Axes>"
      ]
     },
     "metadata": {
      "needs_background": "light"
     },
     "output_type": "display_data"
    }
   ],
   "source": [
    "## Distribution of Education Field\n",
    "\n",
    "sns.countplot(df.EducationField, hue = df.Attrition);"
   ]
  },
  {
   "cell_type": "code",
   "execution_count": 31,
   "metadata": {},
   "outputs": [
    {
     "data": {
      "image/png": "[encoded data removed]",
      "text/plain": [
       "<Figure size 720x288 with 1 Axes>"
      ]
     },
     "metadata": {},
     "output_type": "display_data"
    }
   ],
   "source": [
    "sns.set(rc={'figure.figsize':(10,4)})\n",
    "sns.countplot(df.EducationField, hue = df.Attrition);"
   ]
  },
  {
   "cell_type": "code",
   "execution_count": 32,
   "metadata": {},
   "outputs": [],
   "source": [
    "sns.reset_orig()"
   ]
  },
  {
   "cell_type": "code",
   "execution_count": 33,
   "metadata": {},
   "outputs": [],
   "source": [
    "##import matplotlib\n",
    "##matplotlib.rc_file_defaults()"
   ]
  },
  {
   "cell_type": "code",
   "execution_count": 34,
   "metadata": {},
   "outputs": [
    {
     "data": {
      "text/plain": [
       "Life Sciences       606\n",
       "Medical             464\n",
       "Marketing           159\n",
       "Technical Degree    132\n",
       "Other                82\n",
       "Human Resources      27\n",
       "Name: EducationField, dtype: int64"
      ]
     },
     "execution_count": 34,
     "metadata": {},
     "output_type": "execute_result"
    }
   ],
   "source": [
    "df.EducationField.value_counts()"
   ]
  },
  {
   "cell_type": "code",
   "execution_count": 35,
   "metadata": {},
   "outputs": [
    {
     "name": "stdout",
     "output_type": "stream",
     "text": [
      "Percentage Churn in All Employees is 16.12 percent\n",
      "Percentage Churn in Life Sciences is 14.69 percent\n",
      "Percentage Churn in Medical is 13.58 percent\n",
      "Percentage Churn in Marketing is 22.01 percent\n",
      "Percentage Churn in Technical Degree is 24.24 percent\n",
      "Percentage Churn in Human Resources is 25.93 percent\n",
      "Percentage Churn in Other is 13.41 percent\n"
     ]
    }
   ],
   "source": [
    "## Comparing Total Churn to Churn amongst different Categories of Business Travel\n",
    "\n",
    "print('Percentage Churn in All Employees is',round(100*df.Attrition.value_counts(1)[1],2),'percent')\n",
    "print('Percentage Churn in Life Sciences is',round(100* df[df.EducationField =='Life Sciences'].Attrition.value_counts(1)[1],2),'percent')\n",
    "print('Percentage Churn in Medical is',round(100* df[df.EducationField =='Medical'].Attrition.value_counts(1)[1],2),'percent')\n",
    "print('Percentage Churn in Marketing is',round(100* df[df.EducationField =='Marketing'].Attrition.value_counts(1)[1],2),'percent')\n",
    "print('Percentage Churn in Technical Degree is',round(100* df[df.EducationField =='Technical Degree'].Attrition.value_counts(1)[1],2),'percent')\n",
    "print('Percentage Churn in Human Resources is',round(100* df[df.EducationField =='Human Resources'].Attrition.value_counts(1)[1],2),'percent')\n",
    "print('Percentage Churn in Other is',round(100* df[df.EducationField =='Other'].Attrition.value_counts(1)[1],2),'percent')"
   ]
  },
  {
   "cell_type": "code",
   "execution_count": 36,
   "metadata": {},
   "outputs": [
    {
     "data": {
      "text/plain": [
       "Power_divergenceResult(statistic=13.194987593052105, pvalue=0.021618456071202545)"
      ]
     },
     "execution_count": 36,
     "metadata": {},
     "output_type": "execute_result"
    }
   ],
   "source": [
    "## Testing the hypothesis that Churn is independent of Education Field with chi-square test\n",
    "## Null Hypothesis is that Churn is similar for all education fields therefore Churn is independent of Education Field\n",
    "\n",
    "chisquare([14.69,13.58,22.01,24.24,25.93,13.41], f_exp = [16.12,16.12,16.12,16.12,16.12,16.12])"
   ]
  },
  {
   "cell_type": "markdown",
   "metadata": {},
   "source": [
    "##### Since p value < 0.05 therefore we reject the Null Hypothesis\n",
    "##### Therefore we conclude on the basis of the plots, percentage of Churn for each Education Field and Chi-Square Test that Churn is dependent on Education Field"
   ]
  },
  {
   "cell_type": "markdown",
   "metadata": {},
   "source": [
    "### Environment Satisfaction"
   ]
  },
  {
   "cell_type": "code",
   "execution_count": 37,
   "metadata": {},
   "outputs": [
    {
     "data": {
      "image/png": "[encoded data removed]",
      "text/plain": [
       "<Figure size 432x288 with 1 Axes>"
      ]
     },
     "metadata": {
      "needs_background": "light"
     },
     "output_type": "display_data"
    }
   ],
   "source": [
    "sns.countplot(df.EnvironmentSatisfaction, hue = df.Attrition);"
   ]
  },
  {
   "cell_type": "code",
   "execution_count": 38,
   "metadata": {},
   "outputs": [
    {
     "data": {
      "text/plain": [
       "3    453\n",
       "4    446\n",
       "2    287\n",
       "1    284\n",
       "Name: EnvironmentSatisfaction, dtype: int64"
      ]
     },
     "execution_count": 38,
     "metadata": {},
     "output_type": "execute_result"
    }
   ],
   "source": [
    "df.EnvironmentSatisfaction.value_counts()"
   ]
  },
  {
   "cell_type": "code",
   "execution_count": 39,
   "metadata": {},
   "outputs": [
    {
     "name": "stdout",
     "output_type": "stream",
     "text": [
      "Percentage Churn in All Employees is 16.12 percent\n",
      "Percentage Churn in Environment Satisfaction Level 1 is 25.35 percent\n",
      "Percentage Churn in Environment Satisfaction Level 2 is 14.98 percent\n",
      "Percentage Churn in Environment Satisfaction Level 3 is 13.69 percent\n",
      "Percentage Churn in Environment Satisfaction Level 4 is 13.45 percent\n"
     ]
    }
   ],
   "source": [
    "## Comparing Total Churn to Churn amongst different Categories of Business Travel\n",
    "\n",
    "print('Percentage Churn in All Employees is',round(100*df.Attrition.value_counts(1)[1],2),'percent')\n",
    "print('Percentage Churn in Environment Satisfaction Level 1 is',round(100* df[df.EnvironmentSatisfaction ==1].Attrition.value_counts(1)[1],2),'percent')\n",
    "print('Percentage Churn in Environment Satisfaction Level 2 is',round(100* df[df.EnvironmentSatisfaction ==2].Attrition.value_counts(1)[1],2),'percent')\n",
    "print('Percentage Churn in Environment Satisfaction Level 3 is',round(100* df[df.EnvironmentSatisfaction ==3].Attrition.value_counts(1)[1],2),'percent')\n",
    "print('Percentage Churn in Environment Satisfaction Level 4 is',round(100* df[df.EnvironmentSatisfaction ==4].Attrition.value_counts(1)[1],2),'percent')\n"
   ]
  },
  {
   "cell_type": "code",
   "execution_count": 40,
   "metadata": {},
   "outputs": [
    {
     "data": {
      "text/plain": [
       "Power_divergenceResult(statistic=6.174088089330026, pvalue=0.10344090570793818)"
      ]
     },
     "execution_count": 40,
     "metadata": {},
     "output_type": "execute_result"
    }
   ],
   "source": [
    "## Testing the hypothesis that Churn is independent of Environment Satisfaction with chi-square test\n",
    "## Null Hypothesis is that Churn is similar for all Enviroment Satisfaction Levels therefore Churn is independent of Environment Satisfaction\n",
    "\n",
    "chisquare([25.35,14.98,13.69,13.45], f_exp = [16.12,16.12,16.12,16.12])"
   ]
  },
  {
   "cell_type": "markdown",
   "metadata": {},
   "source": [
    "##### Since p value > 0.05 therefore we fail to reject the Null Hypothesis\n",
    "##### However, we should not completely discard this variable as p value was quite close to 0.05"
   ]
  },
  {
   "cell_type": "markdown",
   "metadata": {},
   "source": [
    "### Gender"
   ]
  },
  {
   "cell_type": "code",
   "execution_count": 41,
   "metadata": {},
   "outputs": [
    {
     "data": {
      "image/png": "[encoded data removed]",
      "text/plain": [
       "<Figure size 432x288 with 1 Axes>"
      ]
     },
     "metadata": {
      "needs_background": "light"
     },
     "output_type": "display_data"
    }
   ],
   "source": [
    "sns.countplot(df.Gender, hue = df.Attrition );"
   ]
  },
  {
   "cell_type": "code",
   "execution_count": 42,
   "metadata": {},
   "outputs": [
    {
     "name": "stdout",
     "output_type": "stream",
     "text": [
      "Percentage Churn in All Employees is 16.12 percent\n",
      "Percentage Churn in Females is 14.8 percent\n",
      "Percentage Churn in Males is 17.01 percent\n"
     ]
    }
   ],
   "source": [
    "## Comparing Total Churn to Churn amongst Males and Females\n",
    "\n",
    "print('Percentage Churn in All Employees is',round(100*df.Attrition.value_counts(1)[1],2),'percent')\n",
    "print('Percentage Churn in Females is',round(100* df[df.Gender =='Female'].Attrition.value_counts(1)[1],2),'percent')\n",
    "print('Percentage Churn in Males is',round(100* df[df.Gender =='Male'].Attrition.value_counts(1)[1],2),'percent')\n"
   ]
  },
  {
   "cell_type": "code",
   "execution_count": 43,
   "metadata": {},
   "outputs": [
    {
     "data": {
      "text/plain": [
       "Power_divergenceResult(statistic=0.1572270471464021, pvalue=0.6917224454386737)"
      ]
     },
     "execution_count": 43,
     "metadata": {},
     "output_type": "execute_result"
    }
   ],
   "source": [
    "## Testing the hypothesis that Churn is independent of Environment Satisfaction with chi-square test\n",
    "## Null Hypothesis is that Churn is similar for all Enviroment Satisfaction Levels therefore Churn is independent of Environment Satisfaction\n",
    "\n",
    "chisquare([14.8,17.01], f_exp = [16.12,16.12])"
   ]
  },
  {
   "cell_type": "markdown",
   "metadata": {},
   "source": [
    "##### Since p value > 0.05 therefore we fail to reject the Null Hypothesis\n",
    "##### Attrition is independent of Gender"
   ]
  },
  {
   "cell_type": "markdown",
   "metadata": {},
   "source": [
    "### Job Involvement"
   ]
  },
  {
   "cell_type": "code",
   "execution_count": 44,
   "metadata": {},
   "outputs": [
    {
     "data": {
      "image/png": "[encoded data removed]",
      "text/plain": [
       "<Figure size 432x288 with 1 Axes>"
      ]
     },
     "metadata": {
      "needs_background": "light"
     },
     "output_type": "display_data"
    }
   ],
   "source": [
    "sns.countplot(df.JobInvolvement, hue = df.Attrition);"
   ]
  },
  {
   "cell_type": "code",
   "execution_count": 45,
   "metadata": {},
   "outputs": [
    {
     "name": "stdout",
     "output_type": "stream",
     "text": [
      "Percentage Churn in All Employees is 16.12 percent\n",
      "Percentage Churn in Job Involvement Level 1 is 33.73 percent\n",
      "Percentage Churn in Job Involvement Level 2 is 18.93 percent\n",
      "Percentage Churn in Job Involvement Level 3 is 14.4 percent\n",
      "Percentage Churn in Job Involvement Level 4 is 9.03 percent\n"
     ]
    }
   ],
   "source": [
    "## Comparing Total Churn to Churn amongst different levels of Job Involvement\n",
    "\n",
    "print('Percentage Churn in All Employees is',round(100*df.Attrition.value_counts(1)[1],2),'percent')\n",
    "print('Percentage Churn in Job Involvement Level 1 is',round(100* df[df.JobInvolvement ==1].Attrition.value_counts(1)[1],2),'percent')\n",
    "print('Percentage Churn in Job Involvement Level 2 is',round(100* df[df.JobInvolvement ==2].Attrition.value_counts(1)[1],2),'percent')\n",
    "print('Percentage Churn in Job Involvement Level 3 is',round(100* df[df.JobInvolvement ==3].Attrition.value_counts(1)[1],2),'percent')\n",
    "print('Percentage Churn in Job Involvement Level 4 is',round(100* df[df.JobInvolvement ==4].Attrition.value_counts(1)[1],2),'percent')\n"
   ]
  },
  {
   "cell_type": "code",
   "execution_count": 46,
   "metadata": {},
   "outputs": [
    {
     "data": {
      "text/plain": [
       "Power_divergenceResult(statistic=23.02944789081885, pvalue=3.9816275039371276e-05)"
      ]
     },
     "execution_count": 46,
     "metadata": {},
     "output_type": "execute_result"
    }
   ],
   "source": [
    "## Testing the hypothesis that Churn is independent of Job Involvement with chi-square test\n",
    "## Null Hypothesis is that Churn is similar for all Job Involvement Levels therefore Churn is independent of Environment Satisfaction\n",
    "\n",
    "chisquare([33.73,18.93,14.4,9.03], f_exp = [16.12,16.12,16.12,16.12])"
   ]
  },
  {
   "cell_type": "markdown",
   "metadata": {},
   "source": [
    "##### p-value <0.05. Therefore we reject the Null Hypothesis. Churn is dependent on Job Involvement"
   ]
  },
  {
   "cell_type": "markdown",
   "metadata": {},
   "source": [
    "### Job Level"
   ]
  },
  {
   "cell_type": "code",
   "execution_count": 47,
   "metadata": {},
   "outputs": [
    {
     "data": {
      "image/png": "[encoded data removed]",
      "text/plain": [
       "<Figure size 432x288 with 1 Axes>"
      ]
     },
     "metadata": {
      "needs_background": "light"
     },
     "output_type": "display_data"
    }
   ],
   "source": [
    "sns.countplot(df.JobLevel, hue = df.Attrition);"
   ]
  },
  {
   "cell_type": "code",
   "execution_count": 48,
   "metadata": {},
   "outputs": [
    {
     "name": "stdout",
     "output_type": "stream",
     "text": [
      "Percentage Churn in All Employees is 16.12 percent\n",
      "Percentage Churn in Job Level 1 is 26.34 percent\n",
      "Percentage Churn in Job Level 2 is 9.74 percent\n",
      "Percentage Churn in Job Level 3 is 14.68 percent\n",
      "Percentage Churn in Job Level 4 is 4.72 percent\n",
      "Percentage Churn in Job Level 5 is 7.25 percent\n"
     ]
    }
   ],
   "source": [
    "print('Percentage Churn in All Employees is',round(100*df.Attrition.value_counts(1)[1],2),'percent')\n",
    "print('Percentage Churn in Job Level 1 is',round(100* df[df.JobLevel ==1].Attrition.value_counts(1)[1],2),'percent')\n",
    "print('Percentage Churn in Job Level 2 is',round(100* df[df.JobLevel ==2].Attrition.value_counts(1)[1],2),'percent')\n",
    "print('Percentage Churn in Job Level 3 is',round(100* df[df.JobLevel ==3].Attrition.value_counts(1)[1],2),'percent')\n",
    "print('Percentage Churn in Job Level 4 is',round(100* df[df.JobLevel ==4].Attrition.value_counts(1)[1],2),'percent')\n",
    "print('Percentage Churn in Job Level 5 is',round(100* df[df.JobLevel ==5].Attrition.value_counts(1)[1],2),'percent')"
   ]
  },
  {
   "cell_type": "code",
   "execution_count": 49,
   "metadata": {},
   "outputs": [
    {
     "data": {
      "text/plain": [
       "Power_divergenceResult(statistic=22.075887096774196, pvalue=0.00019356834093473685)"
      ]
     },
     "execution_count": 49,
     "metadata": {},
     "output_type": "execute_result"
    }
   ],
   "source": [
    "## Testing the hypothesis that Churn is independent of Job Level with chi-square test\n",
    "## Null Hypothesis is that Churn is similar for all Job  Levels therefore Churn is independent of Job Levels\n",
    "\n",
    "chisquare([26.34,9.74,14.68,4.72,7.25], f_exp = [16.12,16.12,16.12,16.12,16.12])"
   ]
  },
  {
   "cell_type": "markdown",
   "metadata": {},
   "source": [
    "##### p-value <0.05. Therefore we reject the Null Hypothesis. Churn is dependent on Job Level"
   ]
  },
  {
   "cell_type": "markdown",
   "metadata": {},
   "source": [
    "### Job Role"
   ]
  },
  {
   "cell_type": "code",
   "execution_count": 50,
   "metadata": {},
   "outputs": [],
   "source": [
    "sns.set(rc={'figure.figsize':(20,4)})"
   ]
  },
  {
   "cell_type": "code",
   "execution_count": 51,
   "metadata": {},
   "outputs": [
    {
     "data": {
      "image/png": "[encoded data removed]",
      "text/plain": [
       "<Figure size 1440x288 with 1 Axes>"
      ]
     },
     "metadata": {},
     "output_type": "display_data"
    }
   ],
   "source": [
    "sns.countplot(df.JobRole, hue = df.Attrition);"
   ]
  },
  {
   "cell_type": "code",
   "execution_count": 52,
   "metadata": {},
   "outputs": [
    {
     "data": {
      "text/plain": [
       "Sales Executive              326\n",
       "Research Scientist           292\n",
       "Laboratory Technician        259\n",
       "Manufacturing Director       145\n",
       "Healthcare Representative    131\n",
       "Manager                      102\n",
       "Sales Representative          83\n",
       "Research Director             80\n",
       "Human Resources               52\n",
       "Name: JobRole, dtype: int64"
      ]
     },
     "execution_count": 52,
     "metadata": {},
     "output_type": "execute_result"
    }
   ],
   "source": [
    "df.JobRole.value_counts()"
   ]
  },
  {
   "cell_type": "code",
   "execution_count": 53,
   "metadata": {},
   "outputs": [
    {
     "name": "stdout",
     "output_type": "stream",
     "text": [
      "Percentage Churn in All Employees is 16.12 percent\n",
      "Percentage Churn amongst Sales Executive is 17.48 percent\n",
      "Percentage Churn amongst Research Scientist is 16.1 percent\n",
      "Percentage Churn amongst Laboratory Technician is 23.94 percent\n",
      "Percentage Churn amongst Manufacturing Director is 6.9 percent\n",
      "Percentage Churn amongst Healthcare Representative is 6.87 percent\n",
      "Percentage Churn amongst Manager is 4.9 percent\n",
      "Percentage Churn amongst Sales Representative is 39.76 percent\n",
      "Percentage Churn amongst Research Director is 2.5 percent\n",
      "Percentage Churn amongst Human Resources is 23.08 percent\n"
     ]
    }
   ],
   "source": [
    "print('Percentage Churn in All Employees is',round(100*df.Attrition.value_counts(1)[1],2),'percent')\n",
    "print('Percentage Churn amongst Sales Executive is',round(100* df[df.JobRole =='Sales Executive'].Attrition.value_counts(1)[1],2),'percent')\n",
    "print('Percentage Churn amongst Research Scientist is',round(100* df[df.JobRole =='Research Scientist'].Attrition.value_counts(1)[1],2),'percent')\n",
    "print('Percentage Churn amongst Laboratory Technician is',round(100* df[df.JobRole =='Laboratory Technician'].Attrition.value_counts(1)[1],2),'percent')\n",
    "print('Percentage Churn amongst Manufacturing Director is',round(100* df[df.JobRole =='Manufacturing Director'].Attrition.value_counts(1)[1],2),'percent')\n",
    "print('Percentage Churn amongst Healthcare Representative is',round(100* df[df.JobRole =='Healthcare Representative'].Attrition.value_counts(1)[1],2),'percent')\n",
    "print('Percentage Churn amongst Manager is',round(100* df[df.JobRole =='Manager'].Attrition.value_counts(1)[1],2),'percent')\n",
    "print('Percentage Churn amongst Sales Representative is',round(100* df[df.JobRole =='Sales Representative'].Attrition.value_counts(1)[1],2),'percent')\n",
    "print('Percentage Churn amongst Research Director is',round(100* df[df.JobRole =='Research Director'].Attrition.value_counts(1)[1],2),'percent')\n",
    "print('Percentage Churn amongst Human Resources is',round(100* df[df.JobRole =='Human Resources'].Attrition.value_counts(1)[1],2),'percent')"
   ]
  },
  {
   "cell_type": "code",
   "execution_count": 54,
   "metadata": {},
   "outputs": [
    {
     "data": {
      "text/plain": [
       "Power_divergenceResult(statistic=71.47998138957816, pvalue=2.4921074322332365e-12)"
      ]
     },
     "execution_count": 54,
     "metadata": {},
     "output_type": "execute_result"
    }
   ],
   "source": [
    "## Testing the hypothesis that Churn is independent of Job Level with chi-square test\n",
    "## Null Hypothesis is that Churn is similar for all Job  Levels therefore Churn is independent of Job Levels\n",
    "\n",
    "chisquare([17.48,16.1,23.94,6.9,6.87,4.9,39.76,2.5,23.08], f_exp = [16.12,16.12,16.12,16.12,16.12,16.12,16.12,16.12,16.12])"
   ]
  },
  {
   "cell_type": "markdown",
   "metadata": {},
   "source": [
    "##### p-value <0.05. Therefore we reject the Null Hypothesis. Churn is dependent on JobRole"
   ]
  },
  {
   "cell_type": "markdown",
   "metadata": {},
   "source": [
    "### Job Satisfaction"
   ]
  },
  {
   "cell_type": "code",
   "execution_count": 55,
   "metadata": {},
   "outputs": [
    {
     "data": {
      "image/png": "[encoded data removed]",
      "text/plain": [
       "<Figure size 432x288 with 1 Axes>"
      ]
     },
     "metadata": {
      "needs_background": "light"
     },
     "output_type": "display_data"
    }
   ],
   "source": [
    "sns.reset_orig()\n",
    "\n",
    "sns.countplot(df.JobSatisfaction, hue = df.Attrition);"
   ]
  },
  {
   "cell_type": "code",
   "execution_count": 56,
   "metadata": {},
   "outputs": [
    {
     "data": {
      "text/plain": [
       "4    459\n",
       "3    442\n",
       "1    289\n",
       "2    280\n",
       "Name: JobSatisfaction, dtype: int64"
      ]
     },
     "execution_count": 56,
     "metadata": {},
     "output_type": "execute_result"
    }
   ],
   "source": [
    "df.JobSatisfaction.value_counts()"
   ]
  },
  {
   "cell_type": "code",
   "execution_count": 57,
   "metadata": {},
   "outputs": [
    {
     "name": "stdout",
     "output_type": "stream",
     "text": [
      "Percentage Churn in All Employees is 16.12 percent\n",
      "Percentage Churn amongst Job Satsifaction Level 1 is 22.84 percent\n",
      "Percentage Churn amongst Job Satsifaction Level 2 is 16.43 percent\n",
      "Percentage Churn amongst Job Satsifaction Level 3 is 16.52 percent\n",
      "Percentage Churn amongst Job Satsifaction Level 4 is 11.33 percent\n"
     ]
    }
   ],
   "source": [
    "print('Percentage Churn in All Employees is',round(100*df.Attrition.value_counts(1)[1],2),'percent')\n",
    "print('Percentage Churn amongst Job Satsifaction Level 1 is',round(100* df[df.JobSatisfaction ==1].Attrition.value_counts(1)[1],2),'percent')\n",
    "print('Percentage Churn amongst Job Satsifaction Level 2 is',round(100* df[df.JobSatisfaction ==2].Attrition.value_counts(1)[1],2),'percent')\n",
    "print('Percentage Churn amongst Job Satsifaction Level 3 is',round(100* df[df.JobSatisfaction ==3].Attrition.value_counts(1)[1],2),'percent')\n",
    "print('Percentage Churn amongst Job Satsifaction Level 4 is',round(100* df[df.JobSatisfaction ==4].Attrition.value_counts(1)[1],2),'percent')"
   ]
  },
  {
   "cell_type": "code",
   "execution_count": 58,
   "metadata": {},
   "outputs": [
    {
     "data": {
      "text/plain": [
       "Power_divergenceResult(statistic=4.240607940446649, pvalue=0.23662757733224515)"
      ]
     },
     "execution_count": 58,
     "metadata": {},
     "output_type": "execute_result"
    }
   ],
   "source": [
    "## Testing the hypothesis that Churn is independent of Job Satisfaction Level with chi-square test\n",
    "## Null Hypothesis is that Churn is similar for all Job Satisfaction Levels therefore Churn is independent of Job Levels\n",
    "\n",
    "chisquare([22.84,16.43,16.52,11.33], f_exp = [16.12,16.12,16.12,16.12])"
   ]
  },
  {
   "cell_type": "markdown",
   "metadata": {},
   "source": [
    "##### p value >0.05 therefore we fail to reject the NULL hypothesis therefore Churn is independent of Job Satisfaction"
   ]
  },
  {
   "cell_type": "markdown",
   "metadata": {},
   "source": [
    "### Marital Status"
   ]
  },
  {
   "cell_type": "code",
   "execution_count": 59,
   "metadata": {},
   "outputs": [
    {
     "data": {
      "image/png": "[encoded data removed]",
      "text/plain": [
       "<Figure size 432x288 with 1 Axes>"
      ]
     },
     "metadata": {
      "needs_background": "light"
     },
     "output_type": "display_data"
    }
   ],
   "source": [
    "sns.countplot(df.MaritalStatus, hue = df.Attrition);"
   ]
  },
  {
   "cell_type": "code",
   "execution_count": 60,
   "metadata": {},
   "outputs": [
    {
     "name": "stdout",
     "output_type": "stream",
     "text": [
      "Percentage Churn in All Employees is 16.12 percent\n",
      "Percentage Churn amongst Single employees is 25.53 percent\n",
      "Percentage Churn amongst Married employees is 12.48 percent\n",
      "Percentage Churn amongst Divorced employees is 10.09 percent\n"
     ]
    }
   ],
   "source": [
    "print('Percentage Churn in All Employees is',round(100*df.Attrition.value_counts(1)[1],2),'percent')\n",
    "print('Percentage Churn amongst Single employees is',round(100* df[df.MaritalStatus =='Single'].Attrition.value_counts(1)[1],2),'percent')\n",
    "print('Percentage Churn amongst Married employees is',round(100* df[df.MaritalStatus =='Married'].Attrition.value_counts(1)[1],2),'percent')\n",
    "print('Percentage Churn amongst Divorced employees is',round(100* df[df.MaritalStatus =='Divorced'].Attrition.value_counts(1)[1],2),'percent')\n",
    "\n"
   ]
  },
  {
   "cell_type": "code",
   "execution_count": 61,
   "metadata": {},
   "outputs": [
    {
     "data": {
      "text/plain": [
       "Power_divergenceResult(statistic=8.570632754342434, pvalue=0.013769264551139495)"
      ]
     },
     "execution_count": 61,
     "metadata": {},
     "output_type": "execute_result"
    }
   ],
   "source": [
    "## Testing the hypothesis that Churn is independent of Marital Status with chi-square test\n",
    "## Null Hypothesis is that Churn is similar for all Marital Status \n",
    "\n",
    "chisquare([25.53,12.48,10.09], f_exp = [16.12,16.12,16.12])"
   ]
  },
  {
   "cell_type": "markdown",
   "metadata": {},
   "source": [
    "##### p value <0.05 therefore we reject the NULL hypothesis therefore Churn is dependent on Marital Status. However, this may also be due to age"
   ]
  },
  {
   "cell_type": "code",
   "execution_count": 62,
   "metadata": {},
   "outputs": [
    {
     "data": {
      "image/png": "[encoded data removed]",
      "text/plain": [
       "<Figure size 432x288 with 1 Axes>"
      ]
     },
     "metadata": {
      "needs_background": "light"
     },
     "output_type": "display_data"
    }
   ],
   "source": [
    "sns.boxplot(x = df.MaritalStatus, y = df.Age);"
   ]
  },
  {
   "cell_type": "markdown",
   "metadata": {},
   "source": [
    "### Monthly Income"
   ]
  },
  {
   "cell_type": "code",
   "execution_count": 63,
   "metadata": {},
   "outputs": [
    {
     "data": {
      "image/png": "[encoded data removed]",
      "text/plain": [
       "<Figure size 432x288 with 1 Axes>"
      ]
     },
     "metadata": {
      "needs_background": "light"
     },
     "output_type": "display_data"
    }
   ],
   "source": [
    "sns.histplot(df.MonthlyIncome);"
   ]
  },
  {
   "cell_type": "code",
   "execution_count": 64,
   "metadata": {},
   "outputs": [
    {
     "data": {
      "image/png": "[encoded data removed]",
      "text/plain": [
       "<Figure size 432x288 with 1 Axes>"
      ]
     },
     "metadata": {
      "needs_background": "light"
     },
     "output_type": "display_data"
    }
   ],
   "source": [
    "sns.boxplot(y = df.MonthlyIncome, x = df.Attrition);"
   ]
  },
  {
   "cell_type": "code",
   "execution_count": 65,
   "metadata": {},
   "outputs": [
    {
     "name": "stdout",
     "output_type": "stream",
     "text": [
      "                 sum_sq      df          F        PR(>F)\n",
      "Attrition  8.318699e+08     1.0  38.488819  7.147364e-10\n",
      "Residual   3.172831e+10  1468.0        NaN           NaN\n"
     ]
    }
   ],
   "source": [
    "## We see that people who churned have a lower Monthly Income. We can confirm this with an ANOVA test\n",
    "## NULL Hypothesis is that the average monthly income for people who churn and those----\n",
    "## ----who do not is the same (difference is not statistically significant)\n",
    "\n",
    "mod = ols('MonthlyIncome ~ Attrition', data = df).fit()\n",
    "aov_table = sm.stats.anova_lm(mod, typ = 2)\n",
    "print(aov_table)"
   ]
  },
  {
   "cell_type": "markdown",
   "metadata": {},
   "source": [
    "##### p-value <0.05 therefore we reject the null hypothesis. Attrition is impacted by monthly income"
   ]
  },
  {
   "cell_type": "markdown",
   "metadata": {},
   "source": [
    "### Number of Companies Worked"
   ]
  },
  {
   "cell_type": "code",
   "execution_count": 66,
   "metadata": {},
   "outputs": [
    {
     "data": {
      "image/png": "[encoded data removed]",
      "text/plain": [
       "<Figure size 432x288 with 1 Axes>"
      ]
     },
     "metadata": {
      "needs_background": "light"
     },
     "output_type": "display_data"
    }
   ],
   "source": [
    "sns.histplot(df.NumCompaniesWorked);"
   ]
  },
  {
   "cell_type": "code",
   "execution_count": 67,
   "metadata": {},
   "outputs": [
    {
     "data": {
      "image/png": "[encoded data removed]",
      "text/plain": [
       "<Figure size 432x288 with 1 Axes>"
      ]
     },
     "metadata": {
      "needs_background": "light"
     },
     "output_type": "display_data"
    }
   ],
   "source": [
    "sns.boxplot(y = df.NumCompaniesWorked, x = df.Attrition);"
   ]
  },
  {
   "cell_type": "code",
   "execution_count": 68,
   "metadata": {},
   "outputs": [
    {
     "name": "stdout",
     "output_type": "stream",
     "text": [
      "                sum_sq      df         F    PR(>F)\n",
      "Attrition    17.340567     1.0  2.782287  0.095525\n",
      "Residual   9149.291406  1468.0       NaN       NaN\n"
     ]
    }
   ],
   "source": [
    "## We see that people who churned have worked for higher number of companies. We can confirm this with an ANOVA test\n",
    "## NULL Hypothesis is that the average number of companies for people who churn and those----\n",
    "## ----who do not is the same (difference is not statistically significant)\n",
    "\n",
    "mod = ols('NumCompaniesWorked ~ Attrition', data = df).fit()\n",
    "aov_table = sm.stats.anova_lm(mod, typ = 2)\n",
    "print(aov_table)"
   ]
  },
  {
   "cell_type": "markdown",
   "metadata": {},
   "source": [
    "##### p value >0.05 therefore we fail to reject the NULL hypothesis. churn is independent of number of companies"
   ]
  },
  {
   "cell_type": "markdown",
   "metadata": {},
   "source": [
    "### OverTime"
   ]
  },
  {
   "cell_type": "code",
   "execution_count": 69,
   "metadata": {},
   "outputs": [
    {
     "data": {
      "image/png": "[encoded data removed]",
      "text/plain": [
       "<Figure size 432x288 with 1 Axes>"
      ]
     },
     "metadata": {
      "needs_background": "light"
     },
     "output_type": "display_data"
    }
   ],
   "source": [
    "sns.countplot(df.OverTime, hue = df.Attrition);"
   ]
  },
  {
   "cell_type": "markdown",
   "metadata": {},
   "source": [
    "##### We can clearly see that people who do overtime have high attrition"
   ]
  },
  {
   "cell_type": "code",
   "execution_count": 70,
   "metadata": {},
   "outputs": [
    {
     "name": "stdout",
     "output_type": "stream",
     "text": [
      "Percentage Churn in All Employees is 16.12 percent\n",
      "Percentage Churn amongst employees who did overtime is 30.53 percent\n",
      "Percentage Churn amongst employees who didnt do overtime is 10.44 percent\n"
     ]
    }
   ],
   "source": [
    "print('Percentage Churn in All Employees is',round(100*df.Attrition.value_counts(1)[1],2),'percent')\n",
    "print('Percentage Churn amongst employees who did overtime is',round(100* df[df.OverTime =='Yes'].Attrition.value_counts(1)[1],2),'percent')\n",
    "print('Percentage Churn amongst employees who didnt do overtime is',round(100* df[df.OverTime =='No'].Attrition.value_counts(1)[1],2),'percent')\n"
   ]
  },
  {
   "cell_type": "code",
   "execution_count": 71,
   "metadata": {},
   "outputs": [
    {
     "data": {
      "text/plain": [
       "Power_divergenceResult(statistic=14.882785359801488, pvalue=0.00011440222824082013)"
      ]
     },
     "execution_count": 71,
     "metadata": {},
     "output_type": "execute_result"
    }
   ],
   "source": [
    "## Testing the hypothesis that Churn is independent of Overtime with chi-square test\n",
    "## Null Hypothesis is that Churn is similar for people who did overtime and people who did not \n",
    "\n",
    "chisquare([30.53,10.44], f_exp = [16.12,16.12])"
   ]
  },
  {
   "cell_type": "markdown",
   "metadata": {},
   "source": [
    "### PercentSalaryHike"
   ]
  },
  {
   "cell_type": "code",
   "execution_count": 72,
   "metadata": {},
   "outputs": [
    {
     "data": {
      "image/png": "[encoded data removed]",
      "text/plain": [
       "<Figure size 432x288 with 1 Axes>"
      ]
     },
     "metadata": {
      "needs_background": "light"
     },
     "output_type": "display_data"
    }
   ],
   "source": [
    "sns.histplot(df.PercentSalaryHike);"
   ]
  },
  {
   "cell_type": "code",
   "execution_count": 73,
   "metadata": {},
   "outputs": [
    {
     "data": {
      "image/png": "[encoded data removed]",
      "text/plain": [
       "<Figure size 432x288 with 1 Axes>"
      ]
     },
     "metadata": {
      "needs_background": "light"
     },
     "output_type": "display_data"
    }
   ],
   "source": [
    "sns.boxplot(y = df.PercentSalaryHike, x = df.Attrition);"
   ]
  },
  {
   "cell_type": "code",
   "execution_count": 74,
   "metadata": {},
   "outputs": [
    {
     "name": "stdout",
     "output_type": "stream",
     "text": [
      "                 sum_sq      df         F    PR(>F)\n",
      "Attrition      3.574647     1.0  0.266728  0.605613\n",
      "Residual   19673.892020  1468.0       NaN       NaN\n"
     ]
    }
   ],
   "source": [
    "## We see that people who churned have similar percentage hike to people who didnt. We can confirm this with an ANOVA test\n",
    "## NULL Hypothesis is that the average percentage hike for people who churn and those----\n",
    "## ----who do not is the same (difference is not statistically significant)\n",
    "\n",
    "mod = ols('PercentSalaryHike ~ Attrition', data = df).fit()\n",
    "aov_table = sm.stats.anova_lm(mod, typ = 2)\n",
    "print(aov_table)"
   ]
  },
  {
   "cell_type": "markdown",
   "metadata": {},
   "source": [
    "##### P value >0.05 therefore we fail to reject the NULL hypothesis. Attrition is independent of salary hikes"
   ]
  },
  {
   "cell_type": "markdown",
   "metadata": {},
   "source": [
    "### PerformanceRating"
   ]
  },
  {
   "cell_type": "code",
   "execution_count": 75,
   "metadata": {},
   "outputs": [
    {
     "data": {
      "image/png": "[encoded data removed]",
      "text/plain": [
       "<Figure size 432x288 with 1 Axes>"
      ]
     },
     "metadata": {
      "needs_background": "light"
     },
     "output_type": "display_data"
    }
   ],
   "source": [
    "sns.countplot(df.PerformanceRating, hue = df.Attrition);"
   ]
  },
  {
   "cell_type": "code",
   "execution_count": 76,
   "metadata": {},
   "outputs": [
    {
     "name": "stdout",
     "output_type": "stream",
     "text": [
      "Percentage Churn in All Employees is 16.12 percent\n",
      "Percentage Churn amongst employees performance rating 3 16.08 percent\n",
      "Percentage Churn amongst employees performance rating 4 16.37 percent\n"
     ]
    }
   ],
   "source": [
    "print('Percentage Churn in All Employees is',round(100*df.Attrition.value_counts(1)[1],2),'percent')\n",
    "print('Percentage Churn amongst employees performance rating 3',round(100* df[df.PerformanceRating ==3].Attrition.value_counts(1)[1],2),'percent')\n",
    "print('Percentage Churn amongst employees performance rating 4',round(100* df[df.PerformanceRating ==4].Attrition.value_counts(1)[1],2),'percent')"
   ]
  },
  {
   "cell_type": "markdown",
   "metadata": {},
   "source": [
    "##### Even without the chi-square test we can say that attrition is not impacted by performance rating"
   ]
  },
  {
   "cell_type": "markdown",
   "metadata": {},
   "source": [
    "### RelationshipSatisfaction"
   ]
  },
  {
   "cell_type": "code",
   "execution_count": 77,
   "metadata": {},
   "outputs": [
    {
     "data": {
      "image/png": "[encoded data removed]",
      "text/plain": [
       "<Figure size 432x288 with 1 Axes>"
      ]
     },
     "metadata": {
      "needs_background": "light"
     },
     "output_type": "display_data"
    }
   ],
   "source": [
    "sns.countplot(df.RelationshipSatisfaction, hue = df.Attrition);"
   ]
  },
  {
   "cell_type": "code",
   "execution_count": 78,
   "metadata": {},
   "outputs": [
    {
     "name": "stdout",
     "output_type": "stream",
     "text": [
      "Percentage Churn in All Employees is 16.12 percent\n",
      "Percentage Churn amongst employees with RelationshipSatisfaction = 1 is 20.65 percent\n",
      "Percentage Churn amongst employees with RelationshipSatisfaction = 2 is 14.85 percent\n",
      "Percentage Churn amongst employees with RelationshipSatisfaction = 3 is 15.47 percent\n",
      "Percentage Churn amongst employees with RelationshipSatisfaction = 4 is 14.81 percent\n"
     ]
    }
   ],
   "source": [
    "print('Percentage Churn in All Employees is',round(100*df.Attrition.value_counts(1)[1],2),'percent')\n",
    "print('Percentage Churn amongst employees with RelationshipSatisfaction = 1 is',round(100* df[df.RelationshipSatisfaction ==1].Attrition.value_counts(1)[1],2),'percent')\n",
    "print('Percentage Churn amongst employees with RelationshipSatisfaction = 2 is',round(100* df[df.RelationshipSatisfaction ==2].Attrition.value_counts(1)[1],2),'percent')\n",
    "print('Percentage Churn amongst employees with RelationshipSatisfaction = 3 is',round(100* df[df.RelationshipSatisfaction ==3].Attrition.value_counts(1)[1],2),'percent')\n",
    "print('Percentage Churn amongst employees with RelationshipSatisfaction = 4 is',round(100* df[df.RelationshipSatisfaction ==4].Attrition.value_counts(1)[1],2),'percent')\n"
   ]
  },
  {
   "cell_type": "code",
   "execution_count": 79,
   "metadata": {},
   "outputs": [
    {
     "data": {
      "text/plain": [
       "Power_divergenceResult(statistic=1.5057320099255571, pvalue=0.6809480187341754)"
      ]
     },
     "execution_count": 79,
     "metadata": {},
     "output_type": "execute_result"
    }
   ],
   "source": [
    "## Testing the hypothesis that Churn is independent of RelationshipSatisfaction with chi-square test\n",
    "## Null Hypothesis is that Churn is similar for all RelationshipSatisfaction \n",
    "\n",
    "chisquare([20.65,14.85,15.47,14.81], f_exp = [16.12,16.12,16.12,16.12])"
   ]
  },
  {
   "cell_type": "markdown",
   "metadata": {},
   "source": [
    "##### p value >0.05 therefore we fail to reject the NULL hypothesis. attriton is independent of Relationship Satisfaction variable"
   ]
  },
  {
   "cell_type": "markdown",
   "metadata": {},
   "source": [
    "### StockOptionLevel"
   ]
  },
  {
   "cell_type": "code",
   "execution_count": 80,
   "metadata": {},
   "outputs": [
    {
     "data": {
      "image/png": "[encoded data removed]",
      "text/plain": [
       "<Figure size 432x288 with 1 Axes>"
      ]
     },
     "metadata": {
      "needs_background": "light"
     },
     "output_type": "display_data"
    }
   ],
   "source": [
    "sns.countplot(df.StockOptionLevel, hue = df.Attrition);"
   ]
  },
  {
   "cell_type": "code",
   "execution_count": 81,
   "metadata": {},
   "outputs": [
    {
     "name": "stdout",
     "output_type": "stream",
     "text": [
      "Percentage Churn in All Employees is 16.12 percent\n",
      "Percentage Churn amongst employees with StockOptionLevel = 0 is 24.41 percent\n",
      "Percentage Churn amongst employees with StockOptionLevel = 1 is 9.4 percent\n",
      "Percentage Churn amongst employees with StockOptionLevel = 2 is 7.59 percent\n",
      "Percentage Churn amongst employees with StockOptionLevel = 3 is 17.65 percent\n"
     ]
    }
   ],
   "source": [
    "print('Percentage Churn in All Employees is',round(100*df.Attrition.value_counts(1)[1],2),'percent')\n",
    "print('Percentage Churn amongst employees with StockOptionLevel = 0 is',round(100* df[df.StockOptionLevel ==0].Attrition.value_counts(1)[1],2),'percent')\n",
    "print('Percentage Churn amongst employees with StockOptionLevel = 1 is',round(100* df[df.StockOptionLevel ==1].Attrition.value_counts(1)[1],2),'percent')\n",
    "print('Percentage Churn amongst employees with StockOptionLevel = 2 is',round(100* df[df.StockOptionLevel ==2].Attrition.value_counts(1)[1],2),'percent')\n",
    "print('Percentage Churn amongst employees with StockOptionLevel = 3 is',round(100* df[df.StockOptionLevel ==3].Attrition.value_counts(1)[1],2),'percent')\n"
   ]
  },
  {
   "cell_type": "code",
   "execution_count": 82,
   "metadata": {},
   "outputs": [
    {
     "data": {
      "text/plain": [
       "Power_divergenceResult(statistic=11.723591811414392, pvalue=0.00839256398469596)"
      ]
     },
     "execution_count": 82,
     "metadata": {},
     "output_type": "execute_result"
    }
   ],
   "source": [
    "## Testing the hypothesis that Churn is independent of StockOptionLevel with chi-square test\n",
    "## Null Hypothesis is that Churn is similar for all StockOptionLevels \n",
    "\n",
    "chisquare([24.41,9.4,7.59,17.65], f_exp = [16.12,16.12,16.12,16.12])"
   ]
  },
  {
   "cell_type": "markdown",
   "metadata": {},
   "source": [
    "##### P value <0.05 therefore we reject the NULL hypothesis. StockOptionLevels 1 and 2 seem to arrest attrition ---------> this is to be used as nominal variable not ordinal"
   ]
  },
  {
   "cell_type": "markdown",
   "metadata": {},
   "source": [
    "### TotalWorkingYears"
   ]
  },
  {
   "cell_type": "code",
   "execution_count": 83,
   "metadata": {},
   "outputs": [
    {
     "data": {
      "image/png": "[encoded data removed]",
      "text/plain": [
       "<Figure size 432x288 with 1 Axes>"
      ]
     },
     "metadata": {
      "needs_background": "light"
     },
     "output_type": "display_data"
    }
   ],
   "source": [
    "sns.histplot(df.TotalWorkingYears);"
   ]
  },
  {
   "cell_type": "code",
   "execution_count": 84,
   "metadata": {},
   "outputs": [
    {
     "data": {
      "image/png": "[encoded data removed]",
      "text/plain": [
       "<Figure size 432x288 with 1 Axes>"
      ]
     },
     "metadata": {
      "needs_background": "light"
     },
     "output_type": "display_data"
    }
   ],
   "source": [
    "sns.boxplot(y = df.TotalWorkingYears, x = df.Attrition);"
   ]
  },
  {
   "cell_type": "code",
   "execution_count": 85,
   "metadata": {},
   "outputs": [
    {
     "name": "stdout",
     "output_type": "stream",
     "text": [
      "                 sum_sq      df          F        PR(>F)\n",
      "Attrition   2602.445676     1.0  44.252491  4.061878e-11\n",
      "Residual   86331.642079  1468.0        NaN           NaN\n"
     ]
    }
   ],
   "source": [
    "## We see that people who churned have lower TotalWorkingYears to people who didnt. We can confirm this with an ANOVA test\n",
    "## NULL Hypothesis is that the average Total Working Years for people who churn and those----\n",
    "## ----who do not is the same (difference is not statistically significant)\n",
    "\n",
    "mod = ols('TotalWorkingYears ~ Attrition', data = df).fit()\n",
    "aov_table = sm.stats.anova_lm(mod, typ = 2)\n",
    "print(aov_table)"
   ]
  },
  {
   "cell_type": "markdown",
   "metadata": {},
   "source": [
    "##### P value <0.05 therefore we reject the NULL hypothesis have lower total working years. But this may also be related to age."
   ]
  },
  {
   "cell_type": "markdown",
   "metadata": {},
   "source": [
    "### TrainingTimesLastYear"
   ]
  },
  {
   "cell_type": "code",
   "execution_count": 86,
   "metadata": {},
   "outputs": [
    {
     "data": {
      "image/png": "[encoded data removed]",
      "text/plain": [
       "<Figure size 432x288 with 1 Axes>"
      ]
     },
     "metadata": {
      "needs_background": "light"
     },
     "output_type": "display_data"
    }
   ],
   "source": [
    "sns.histplot(df.TrainingTimesLastYear);"
   ]
  },
  {
   "cell_type": "code",
   "execution_count": 87,
   "metadata": {},
   "outputs": [
    {
     "data": {
      "image/png": "[encoded data removed]",
      "text/plain": [
       "<Figure size 432x288 with 1 Axes>"
      ]
     },
     "metadata": {
      "needs_background": "light"
     },
     "output_type": "display_data"
    }
   ],
   "source": [
    "sns.boxplot(y = df.TrainingTimesLastYear, x = df.Attrition);"
   ]
  },
  {
   "cell_type": "markdown",
   "metadata": {},
   "source": [
    "##### We see that Training last year has almost no effect on attrition"
   ]
  },
  {
   "cell_type": "markdown",
   "metadata": {},
   "source": [
    "### WorkLifeBalance"
   ]
  },
  {
   "cell_type": "code",
   "execution_count": 88,
   "metadata": {},
   "outputs": [
    {
     "data": {
      "image/png": "[encoded data removed]",
      "text/plain": [
       "<Figure size 432x288 with 1 Axes>"
      ]
     },
     "metadata": {
      "needs_background": "light"
     },
     "output_type": "display_data"
    }
   ],
   "source": [
    "sns.countplot(df.WorkLifeBalance, hue = df.Attrition);"
   ]
  },
  {
   "cell_type": "code",
   "execution_count": 89,
   "metadata": {},
   "outputs": [
    {
     "name": "stdout",
     "output_type": "stream",
     "text": [
      "Percentage Churn in All Employees is 16.12 percent\n",
      "Percentage Churn amongst employees with WorkLifeBalance = 1 is 31.25 percent\n",
      "Percentage Churn amongst employees with WorkLifeBalance = 2 is 16.86 percent\n",
      "Percentage Churn amongst employees with WorkLifeBalance = 3 is 14.22 percent\n",
      "Percentage Churn amongst employees with WorkLifeBalance = 4 is 17.65 percent\n"
     ]
    }
   ],
   "source": [
    "print('Percentage Churn in All Employees is',round(100*df.Attrition.value_counts(1)[1],2),'percent')\n",
    "print('Percentage Churn amongst employees with WorkLifeBalance = 1 is',round(100* df[df.WorkLifeBalance ==1].Attrition.value_counts(1)[1],2),'percent')\n",
    "print('Percentage Churn amongst employees with WorkLifeBalance = 2 is',round(100* df[df.WorkLifeBalance ==2].Attrition.value_counts(1)[1],2),'percent')\n",
    "print('Percentage Churn amongst employees with WorkLifeBalance = 3 is',round(100* df[df.WorkLifeBalance ==3].Attrition.value_counts(1)[1],2),'percent')\n",
    "print('Percentage Churn amongst employees with WorkLifeBalance = 4 is',round(100* df[df.WorkLifeBalance ==4].Attrition.value_counts(1)[1],2),'percent')\n"
   ]
  },
  {
   "cell_type": "code",
   "execution_count": 90,
   "metadata": {},
   "outputs": [
    {
     "data": {
      "text/plain": [
       "Power_divergenceResult(statistic=14.603933002481387, pvalue=0.0021883917888304515)"
      ]
     },
     "execution_count": 90,
     "metadata": {},
     "output_type": "execute_result"
    }
   ],
   "source": [
    "## Testing the hypothesis that Churn is independent of WorkLifeBalance with chi-square test\n",
    "## Null Hypothesis is that Churn is similar for all StockOptionLevels \n",
    "\n",
    "chisquare([31.25,16.86,14.22,17.65], f_exp = [16.12,16.12,16.12,16.12])"
   ]
  },
  {
   "cell_type": "markdown",
   "metadata": {},
   "source": [
    "##### P value <0.05 therefore we reject the NULL Hypothesis. We see that WorkLife Balance has an impact on Attrition"
   ]
  },
  {
   "cell_type": "markdown",
   "metadata": {},
   "source": [
    "### YearsAtCompany"
   ]
  },
  {
   "cell_type": "code",
   "execution_count": 91,
   "metadata": {},
   "outputs": [
    {
     "data": {
      "image/png": "[encoded data removed]",
      "text/plain": [
       "<Figure size 432x288 with 1 Axes>"
      ]
     },
     "metadata": {
      "needs_background": "light"
     },
     "output_type": "display_data"
    }
   ],
   "source": [
    "sns.histplot(df.YearsAtCompany);"
   ]
  },
  {
   "cell_type": "code",
   "execution_count": 92,
   "metadata": {},
   "outputs": [
    {
     "data": {
      "image/png": "[encoded data removed]",
      "text/plain": [
       "<Figure size 432x288 with 1 Axes>"
      ]
     },
     "metadata": {
      "needs_background": "light"
     },
     "output_type": "display_data"
    }
   ],
   "source": [
    "sns.boxplot(y = df.YearsAtCompany, x = df.Attrition);"
   ]
  },
  {
   "cell_type": "code",
   "execution_count": 93,
   "metadata": {},
   "outputs": [
    {
     "name": "stdout",
     "output_type": "stream",
     "text": [
      "                 sum_sq      df          F        PR(>F)\n",
      "Attrition    995.860381     1.0  27.001624  2.318872e-07\n",
      "Residual   54142.041660  1468.0        NaN           NaN\n"
     ]
    }
   ],
   "source": [
    "## We see that people who churned have lower Years at Company compared to people who didnt. We can confirm this with an ANOVA test\n",
    "## NULL Hypothesis is that the average Total Working Years for people who churn and those----\n",
    "## ----who do not is the same (difference is not statistically significant)\n",
    "\n",
    "mod = ols('YearsAtCompany ~ Attrition', data = df).fit()\n",
    "aov_table = sm.stats.anova_lm(mod, typ = 2)\n",
    "print(aov_table)"
   ]
  },
  {
   "cell_type": "markdown",
   "metadata": {},
   "source": [
    "##### p value < 0.05, therefore we reject the null Hypothesis. We see people with lower years at company tend to attrite"
   ]
  },
  {
   "cell_type": "markdown",
   "metadata": {},
   "source": [
    "### YearsInCurrentRole"
   ]
  },
  {
   "cell_type": "code",
   "execution_count": 94,
   "metadata": {},
   "outputs": [
    {
     "data": {
      "image/png": "[encoded data removed]",
      "text/plain": [
       "<Figure size 432x288 with 1 Axes>"
      ]
     },
     "metadata": {
      "needs_background": "light"
     },
     "output_type": "display_data"
    }
   ],
   "source": [
    "sns.histplot(df.YearsInCurrentRole);"
   ]
  },
  {
   "cell_type": "code",
   "execution_count": 95,
   "metadata": {},
   "outputs": [
    {
     "data": {
      "image/png": "[encoded data removed]",
      "text/plain": [
       "<Figure size 432x288 with 1 Axes>"
      ]
     },
     "metadata": {
      "needs_background": "light"
     },
     "output_type": "display_data"
    }
   ],
   "source": [
    "sns.boxplot(y = df.YearsInCurrentRole, x = df.Attrition);"
   ]
  },
  {
   "cell_type": "code",
   "execution_count": 96,
   "metadata": {},
   "outputs": [
    {
     "name": "stdout",
     "output_type": "stream",
     "text": [
      "                 sum_sq      df          F        PR(>F)\n",
      "Attrition    497.032639     1.0  38.838303  6.003186e-10\n",
      "Residual   18786.709538  1468.0        NaN           NaN\n"
     ]
    }
   ],
   "source": [
    "## We see that people who churned have lower Years in current role compared to people who didnt. We can confirm this with an ANOVA test\n",
    "## NULL Hypothesis is that the average Total years in company for people who churn and those----\n",
    "## ----who do not is the same (difference is not statistically significant)\n",
    "\n",
    "mod = ols('YearsInCurrentRole ~ Attrition', data = df).fit()\n",
    "aov_table = sm.stats.anova_lm(mod, typ = 2)\n",
    "print(aov_table)"
   ]
  },
  {
   "cell_type": "markdown",
   "metadata": {},
   "source": [
    "##### p value < 0.05, therefore we reject the null Hypothesis. We see people with lower years in current role tend to attrite"
   ]
  },
  {
   "cell_type": "markdown",
   "metadata": {},
   "source": [
    "### YearsSinceLastPromotion"
   ]
  },
  {
   "cell_type": "code",
   "execution_count": 97,
   "metadata": {},
   "outputs": [
    {
     "data": {
      "image/png": "[encoded data removed]",
      "text/plain": [
       "<Figure size 432x288 with 1 Axes>"
      ]
     },
     "metadata": {
      "needs_background": "light"
     },
     "output_type": "display_data"
    }
   ],
   "source": [
    "sns.histplot(df.YearsSinceLastPromotion);"
   ]
  },
  {
   "cell_type": "code",
   "execution_count": 98,
   "metadata": {},
   "outputs": [
    {
     "data": {
      "image/png": "[encoded data removed]",
      "text/plain": [
       "<Figure size 432x288 with 1 Axes>"
      ]
     },
     "metadata": {
      "needs_background": "light"
     },
     "output_type": "display_data"
    }
   ],
   "source": [
    "sns.boxplot(y = df.YearsSinceLastPromotion, x = df.Attrition);"
   ]
  },
  {
   "cell_type": "code",
   "execution_count": 99,
   "metadata": {},
   "outputs": [
    {
     "name": "stdout",
     "output_type": "stream",
     "text": [
      "                 sum_sq      df         F   PR(>F)\n",
      "Attrition     16.630709     1.0  1.602218  0.20579\n",
      "Residual   15237.548883  1468.0       NaN      NaN\n"
     ]
    }
   ],
   "source": [
    "## We see that people who churned have same Yearssincelast promotion as those who didnt churn. We can confirm this with an ANOVA test\n",
    "## NULL Hypothesis is that the average tenure for people who churn and those----\n",
    "## ----who do not is the same (difference is not statistically significant)\n",
    "\n",
    "mod = ols('YearsSinceLastPromotion ~ Attrition', data = df).fit()\n",
    "aov_table = sm.stats.anova_lm(mod, typ = 2)\n",
    "print(aov_table)\n"
   ]
  },
  {
   "cell_type": "markdown",
   "metadata": {},
   "source": [
    "##### Since p value > 0.05 we fail to reject the null hypothesis. We see that people who have churned have similar years since last promotion to those who didn't"
   ]
  },
  {
   "cell_type": "markdown",
   "metadata": {},
   "source": [
    "### Years With Current Manager"
   ]
  },
  {
   "cell_type": "code",
   "execution_count": 100,
   "metadata": {},
   "outputs": [
    {
     "data": {
      "image/png": "[encoded data removed]",
      "text/plain": [
       "<Figure size 432x288 with 1 Axes>"
      ]
     },
     "metadata": {
      "needs_background": "light"
     },
     "output_type": "display_data"
    }
   ],
   "source": [
    "sns.histplot(df.YearsWithCurrManager);"
   ]
  },
  {
   "cell_type": "code",
   "execution_count": 101,
   "metadata": {},
   "outputs": [
    {
     "data": {
      "image/png": "[encoded data removed]",
      "text/plain": [
       "<Figure size 432x288 with 1 Axes>"
      ]
     },
     "metadata": {
      "needs_background": "light"
     },
     "output_type": "display_data"
    }
   ],
   "source": [
    "sns.boxplot(y = df.YearsWithCurrManager, x = df.Attrition);"
   ]
  },
  {
   "cell_type": "code",
   "execution_count": 102,
   "metadata": {},
   "outputs": [
    {
     "name": "stdout",
     "output_type": "stream",
     "text": [
      "                 sum_sq      df          F        PR(>F)\n",
      "Attrition    456.313039     1.0  36.712311  1.736987e-09\n",
      "Residual   18246.400567  1468.0        NaN           NaN\n"
     ]
    }
   ],
   "source": [
    "## We see that people who churned have lower years with current manager as compared to those who didnt churn. We can confirm this with an ANOVA test\n",
    "## NULL Hypothesis is that the average tenure for people who churn and those----\n",
    "## ----who do not is the same (difference is not statistically significant)\n",
    "\n",
    "mod = ols('YearsWithCurrManager ~ Attrition', data = df).fit()\n",
    "aov_table = sm.stats.anova_lm(mod, typ = 2)\n",
    "print(aov_table)\n"
   ]
  },
  {
   "cell_type": "markdown",
   "metadata": {},
   "source": [
    "##### p value < 0.05, therefore we reject the null Hypothesis. We see people with lower years with current manager tend to attrite"
   ]
  },
  {
   "cell_type": "markdown",
   "metadata": {},
   "source": [
    "## Keeping on the important Variables"
   ]
  },
  {
   "cell_type": "code",
   "execution_count": 103,
   "metadata": {},
   "outputs": [],
   "source": [
    "newdf = df[['Age','BusinessTravel','DistanceFromHome','EducationField','JobInvolvement','JobLevel', 'JobRole','MonthlyIncome',\n",
    "           'OverTime','StockOptionLevel','TotalWorkingYears','WorkLifeBalance','YearsAtCompany', 'YearsInCurrentRole', 'YearsWithCurrManager', 'Attrition']]"
   ]
  },
  {
   "cell_type": "code",
   "execution_count": 104,
   "metadata": {},
   "outputs": [
    {
     "data": {
      "text/html": [
       "<div>\n",
       "<style scoped>\n",
       "    .dataframe tbody tr th:only-of-type {\n",
       "        vertical-align: middle;\n",
       "    }\n",
       "\n",
       "    .dataframe tbody tr th {\n",
       "        vertical-align: top;\n",
       "    }\n",
       "\n",
       "    .dataframe thead th {\n",
       "        text-align: right;\n",
       "    }\n",
       "</style>\n",
       "<table border=\"1\" class=\"dataframe\">\n",
       "  <thead>\n",
       "    <tr style=\"text-align: right;\">\n",
       "      <th></th>\n",
       "      <th>Age</th>\n",
       "      <th>BusinessTravel</th>\n",
       "      <th>DistanceFromHome</th>\n",
       "      <th>EducationField</th>\n",
       "      <th>JobInvolvement</th>\n",
       "      <th>JobLevel</th>\n",
       "      <th>JobRole</th>\n",
       "      <th>MonthlyIncome</th>\n",
       "      <th>OverTime</th>\n",
       "      <th>StockOptionLevel</th>\n",
       "      <th>TotalWorkingYears</th>\n",
       "      <th>WorkLifeBalance</th>\n",
       "      <th>YearsAtCompany</th>\n",
       "      <th>YearsInCurrentRole</th>\n",
       "      <th>YearsWithCurrManager</th>\n",
       "      <th>Attrition</th>\n",
       "    </tr>\n",
       "  </thead>\n",
       "  <tbody>\n",
       "    <tr>\n",
       "      <th>0</th>\n",
       "      <td>41</td>\n",
       "      <td>Travel_Rarely</td>\n",
       "      <td>1</td>\n",
       "      <td>Life Sciences</td>\n",
       "      <td>3</td>\n",
       "      <td>2</td>\n",
       "      <td>Sales Executive</td>\n",
       "      <td>5993</td>\n",
       "      <td>Yes</td>\n",
       "      <td>0</td>\n",
       "      <td>8</td>\n",
       "      <td>1</td>\n",
       "      <td>6</td>\n",
       "      <td>4</td>\n",
       "      <td>5</td>\n",
       "      <td>Yes</td>\n",
       "    </tr>\n",
       "    <tr>\n",
       "      <th>1</th>\n",
       "      <td>49</td>\n",
       "      <td>Travel_Frequently</td>\n",
       "      <td>8</td>\n",
       "      <td>Life Sciences</td>\n",
       "      <td>2</td>\n",
       "      <td>2</td>\n",
       "      <td>Research Scientist</td>\n",
       "      <td>5130</td>\n",
       "      <td>No</td>\n",
       "      <td>1</td>\n",
       "      <td>10</td>\n",
       "      <td>3</td>\n",
       "      <td>10</td>\n",
       "      <td>7</td>\n",
       "      <td>7</td>\n",
       "      <td>No</td>\n",
       "    </tr>\n",
       "    <tr>\n",
       "      <th>2</th>\n",
       "      <td>37</td>\n",
       "      <td>Travel_Rarely</td>\n",
       "      <td>2</td>\n",
       "      <td>Other</td>\n",
       "      <td>2</td>\n",
       "      <td>1</td>\n",
       "      <td>Laboratory Technician</td>\n",
       "      <td>2090</td>\n",
       "      <td>Yes</td>\n",
       "      <td>0</td>\n",
       "      <td>7</td>\n",
       "      <td>3</td>\n",
       "      <td>0</td>\n",
       "      <td>0</td>\n",
       "      <td>0</td>\n",
       "      <td>Yes</td>\n",
       "    </tr>\n",
       "    <tr>\n",
       "      <th>3</th>\n",
       "      <td>33</td>\n",
       "      <td>Travel_Frequently</td>\n",
       "      <td>3</td>\n",
       "      <td>Life Sciences</td>\n",
       "      <td>3</td>\n",
       "      <td>1</td>\n",
       "      <td>Research Scientist</td>\n",
       "      <td>2909</td>\n",
       "      <td>Yes</td>\n",
       "      <td>0</td>\n",
       "      <td>8</td>\n",
       "      <td>3</td>\n",
       "      <td>8</td>\n",
       "      <td>7</td>\n",
       "      <td>0</td>\n",
       "      <td>No</td>\n",
       "    </tr>\n",
       "    <tr>\n",
       "      <th>4</th>\n",
       "      <td>27</td>\n",
       "      <td>Travel_Rarely</td>\n",
       "      <td>2</td>\n",
       "      <td>Medical</td>\n",
       "      <td>3</td>\n",
       "      <td>1</td>\n",
       "      <td>Laboratory Technician</td>\n",
       "      <td>3468</td>\n",
       "      <td>No</td>\n",
       "      <td>1</td>\n",
       "      <td>6</td>\n",
       "      <td>3</td>\n",
       "      <td>2</td>\n",
       "      <td>2</td>\n",
       "      <td>2</td>\n",
       "      <td>No</td>\n",
       "    </tr>\n",
       "  </tbody>\n",
       "</table>\n",
       "</div>"
      ],
      "text/plain": [
       "   Age     BusinessTravel  DistanceFromHome EducationField  JobInvolvement  \\\n",
       "0   41      Travel_Rarely                 1  Life Sciences               3   \n",
       "1   49  Travel_Frequently                 8  Life Sciences               2   \n",
       "2   37      Travel_Rarely                 2          Other               2   \n",
       "3   33  Travel_Frequently                 3  Life Sciences               3   \n",
       "4   27      Travel_Rarely                 2        Medical               3   \n",
       "\n",
       "   JobLevel                JobRole  MonthlyIncome OverTime  StockOptionLevel  \\\n",
       "0         2        Sales Executive           5993      Yes                 0   \n",
       "1         2     Research Scientist           5130       No                 1   \n",
       "2         1  Laboratory Technician           2090      Yes                 0   \n",
       "3         1     Research Scientist           2909      Yes                 0   \n",
       "4         1  Laboratory Technician           3468       No                 1   \n",
       "\n",
       "   TotalWorkingYears  WorkLifeBalance  YearsAtCompany  YearsInCurrentRole  \\\n",
       "0                  8                1               6                   4   \n",
       "1                 10                3              10                   7   \n",
       "2                  7                3               0                   0   \n",
       "3                  8                3               8                   7   \n",
       "4                  6                3               2                   2   \n",
       "\n",
       "   YearsWithCurrManager Attrition  \n",
       "0                     5       Yes  \n",
       "1                     7        No  \n",
       "2                     0       Yes  \n",
       "3                     0        No  \n",
       "4                     2        No  "
      ]
     },
     "execution_count": 104,
     "metadata": {},
     "output_type": "execute_result"
    }
   ],
   "source": [
    "newdf.head()"
   ]
  },
  {
   "cell_type": "code",
   "execution_count": 105,
   "metadata": {},
   "outputs": [
    {
     "name": "stdout",
     "output_type": "stream",
     "text": [
      "<class 'pandas.core.frame.DataFrame'>\n",
      "RangeIndex: 1470 entries, 0 to 1469\n",
      "Data columns (total 16 columns):\n",
      " #   Column                Non-Null Count  Dtype \n",
      "---  ------                --------------  ----- \n",
      " 0   Age                   1470 non-null   int64 \n",
      " 1   BusinessTravel        1470 non-null   object\n",
      " 2   DistanceFromHome      1470 non-null   int64 \n",
      " 3   EducationField        1470 non-null   object\n",
      " 4   JobInvolvement        1470 non-null   int64 \n",
      " 5   JobLevel              1470 non-null   int64 \n",
      " 6   JobRole               1470 non-null   object\n",
      " 7   MonthlyIncome         1470 non-null   int64 \n",
      " 8   OverTime              1470 non-null   object\n",
      " 9   StockOptionLevel      1470 non-null   int64 \n",
      " 10  TotalWorkingYears     1470 non-null   int64 \n",
      " 11  WorkLifeBalance       1470 non-null   int64 \n",
      " 12  YearsAtCompany        1470 non-null   int64 \n",
      " 13  YearsInCurrentRole    1470 non-null   int64 \n",
      " 14  YearsWithCurrManager  1470 non-null   int64 \n",
      " 15  Attrition             1470 non-null   object\n",
      "dtypes: int64(11), object(5)\n",
      "memory usage: 183.9+ KB\n"
     ]
    }
   ],
   "source": [
    "newdf.info()"
   ]
  },
  {
   "cell_type": "code",
   "execution_count": 106,
   "metadata": {},
   "outputs": [],
   "source": [
    "newdf['StockOptionLevel'] = newdf['StockOptionLevel'].astype(str)"
   ]
  },
  {
   "cell_type": "code",
   "execution_count": 107,
   "metadata": {},
   "outputs": [
    {
     "name": "stdout",
     "output_type": "stream",
     "text": [
      "<class 'pandas.core.frame.DataFrame'>\n",
      "RangeIndex: 1470 entries, 0 to 1469\n",
      "Data columns (total 16 columns):\n",
      " #   Column                Non-Null Count  Dtype \n",
      "---  ------                --------------  ----- \n",
      " 0   Age                   1470 non-null   int64 \n",
      " 1   BusinessTravel        1470 non-null   object\n",
      " 2   DistanceFromHome      1470 non-null   int64 \n",
      " 3   EducationField        1470 non-null   object\n",
      " 4   JobInvolvement        1470 non-null   int64 \n",
      " 5   JobLevel              1470 non-null   int64 \n",
      " 6   JobRole               1470 non-null   object\n",
      " 7   MonthlyIncome         1470 non-null   int64 \n",
      " 8   OverTime              1470 non-null   object\n",
      " 9   StockOptionLevel      1470 non-null   object\n",
      " 10  TotalWorkingYears     1470 non-null   int64 \n",
      " 11  WorkLifeBalance       1470 non-null   int64 \n",
      " 12  YearsAtCompany        1470 non-null   int64 \n",
      " 13  YearsInCurrentRole    1470 non-null   int64 \n",
      " 14  YearsWithCurrManager  1470 non-null   int64 \n",
      " 15  Attrition             1470 non-null   object\n",
      "dtypes: int64(10), object(6)\n",
      "memory usage: 183.9+ KB\n"
     ]
    }
   ],
   "source": [
    "newdf.info()"
   ]
  },
  {
   "cell_type": "markdown",
   "metadata": {},
   "source": [
    "### Converting variables with object datatype into onehotencoded variables"
   ]
  },
  {
   "cell_type": "code",
   "execution_count": 108,
   "metadata": {},
   "outputs": [],
   "source": [
    "oneHotCols = ['BusinessTravel','EducationField','JobRole','OverTime','StockOptionLevel']"
   ]
  },
  {
   "cell_type": "code",
   "execution_count": 109,
   "metadata": {},
   "outputs": [],
   "source": [
    "newdf = pd.get_dummies(newdf,columns = oneHotCols)"
   ]
  },
  {
   "cell_type": "code",
   "execution_count": 110,
   "metadata": {},
   "outputs": [
    {
     "data": {
      "text/html": [
       "<div>\n",
       "<style scoped>\n",
       "    .dataframe tbody tr th:only-of-type {\n",
       "        vertical-align: middle;\n",
       "    }\n",
       "\n",
       "    .dataframe tbody tr th {\n",
       "        vertical-align: top;\n",
       "    }\n",
       "\n",
       "    .dataframe thead th {\n",
       "        text-align: right;\n",
       "    }\n",
       "</style>\n",
       "<table border=\"1\" class=\"dataframe\">\n",
       "  <thead>\n",
       "    <tr style=\"text-align: right;\">\n",
       "      <th></th>\n",
       "      <th>Age</th>\n",
       "      <th>DistanceFromHome</th>\n",
       "      <th>JobInvolvement</th>\n",
       "      <th>JobLevel</th>\n",
       "      <th>MonthlyIncome</th>\n",
       "      <th>TotalWorkingYears</th>\n",
       "      <th>WorkLifeBalance</th>\n",
       "      <th>YearsAtCompany</th>\n",
       "      <th>YearsInCurrentRole</th>\n",
       "      <th>YearsWithCurrManager</th>\n",
       "      <th>...</th>\n",
       "      <th>JobRole_Research Director</th>\n",
       "      <th>JobRole_Research Scientist</th>\n",
       "      <th>JobRole_Sales Executive</th>\n",
       "      <th>JobRole_Sales Representative</th>\n",
       "      <th>OverTime_No</th>\n",
       "      <th>OverTime_Yes</th>\n",
       "      <th>StockOptionLevel_0</th>\n",
       "      <th>StockOptionLevel_1</th>\n",
       "      <th>StockOptionLevel_2</th>\n",
       "      <th>StockOptionLevel_3</th>\n",
       "    </tr>\n",
       "  </thead>\n",
       "  <tbody>\n",
       "    <tr>\n",
       "      <th>0</th>\n",
       "      <td>41</td>\n",
       "      <td>1</td>\n",
       "      <td>3</td>\n",
       "      <td>2</td>\n",
       "      <td>5993</td>\n",
       "      <td>8</td>\n",
       "      <td>1</td>\n",
       "      <td>6</td>\n",
       "      <td>4</td>\n",
       "      <td>5</td>\n",
       "      <td>...</td>\n",
       "      <td>0</td>\n",
       "      <td>0</td>\n",
       "      <td>1</td>\n",
       "      <td>0</td>\n",
       "      <td>0</td>\n",
       "      <td>1</td>\n",
       "      <td>1</td>\n",
       "      <td>0</td>\n",
       "      <td>0</td>\n",
       "      <td>0</td>\n",
       "    </tr>\n",
       "    <tr>\n",
       "      <th>1</th>\n",
       "      <td>49</td>\n",
       "      <td>8</td>\n",
       "      <td>2</td>\n",
       "      <td>2</td>\n",
       "      <td>5130</td>\n",
       "      <td>10</td>\n",
       "      <td>3</td>\n",
       "      <td>10</td>\n",
       "      <td>7</td>\n",
       "      <td>7</td>\n",
       "      <td>...</td>\n",
       "      <td>0</td>\n",
       "      <td>1</td>\n",
       "      <td>0</td>\n",
       "      <td>0</td>\n",
       "      <td>1</td>\n",
       "      <td>0</td>\n",
       "      <td>0</td>\n",
       "      <td>1</td>\n",
       "      <td>0</td>\n",
       "      <td>0</td>\n",
       "    </tr>\n",
       "    <tr>\n",
       "      <th>2</th>\n",
       "      <td>37</td>\n",
       "      <td>2</td>\n",
       "      <td>2</td>\n",
       "      <td>1</td>\n",
       "      <td>2090</td>\n",
       "      <td>7</td>\n",
       "      <td>3</td>\n",
       "      <td>0</td>\n",
       "      <td>0</td>\n",
       "      <td>0</td>\n",
       "      <td>...</td>\n",
       "      <td>0</td>\n",
       "      <td>0</td>\n",
       "      <td>0</td>\n",
       "      <td>0</td>\n",
       "      <td>0</td>\n",
       "      <td>1</td>\n",
       "      <td>1</td>\n",
       "      <td>0</td>\n",
       "      <td>0</td>\n",
       "      <td>0</td>\n",
       "    </tr>\n",
       "    <tr>\n",
       "      <th>3</th>\n",
       "      <td>33</td>\n",
       "      <td>3</td>\n",
       "      <td>3</td>\n",
       "      <td>1</td>\n",
       "      <td>2909</td>\n",
       "      <td>8</td>\n",
       "      <td>3</td>\n",
       "      <td>8</td>\n",
       "      <td>7</td>\n",
       "      <td>0</td>\n",
       "      <td>...</td>\n",
       "      <td>0</td>\n",
       "      <td>1</td>\n",
       "      <td>0</td>\n",
       "      <td>0</td>\n",
       "      <td>0</td>\n",
       "      <td>1</td>\n",
       "      <td>1</td>\n",
       "      <td>0</td>\n",
       "      <td>0</td>\n",
       "      <td>0</td>\n",
       "    </tr>\n",
       "    <tr>\n",
       "      <th>4</th>\n",
       "      <td>27</td>\n",
       "      <td>2</td>\n",
       "      <td>3</td>\n",
       "      <td>1</td>\n",
       "      <td>3468</td>\n",
       "      <td>6</td>\n",
       "      <td>3</td>\n",
       "      <td>2</td>\n",
       "      <td>2</td>\n",
       "      <td>2</td>\n",
       "      <td>...</td>\n",
       "      <td>0</td>\n",
       "      <td>0</td>\n",
       "      <td>0</td>\n",
       "      <td>0</td>\n",
       "      <td>1</td>\n",
       "      <td>0</td>\n",
       "      <td>0</td>\n",
       "      <td>1</td>\n",
       "      <td>0</td>\n",
       "      <td>0</td>\n",
       "    </tr>\n",
       "  </tbody>\n",
       "</table>\n",
       "<p>5 rows × 35 columns</p>\n",
       "</div>"
      ],
      "text/plain": [
       "   Age  DistanceFromHome  JobInvolvement  JobLevel  MonthlyIncome  \\\n",
       "0   41                 1               3         2           5993   \n",
       "1   49                 8               2         2           5130   \n",
       "2   37                 2               2         1           2090   \n",
       "3   33                 3               3         1           2909   \n",
       "4   27                 2               3         1           3468   \n",
       "\n",
       "   TotalWorkingYears  WorkLifeBalance  YearsAtCompany  YearsInCurrentRole  \\\n",
       "0                  8                1               6                   4   \n",
       "1                 10                3              10                   7   \n",
       "2                  7                3               0                   0   \n",
       "3                  8                3               8                   7   \n",
       "4                  6                3               2                   2   \n",
       "\n",
       "   YearsWithCurrManager  ... JobRole_Research Director  \\\n",
       "0                     5  ...                         0   \n",
       "1                     7  ...                         0   \n",
       "2                     0  ...                         0   \n",
       "3                     0  ...                         0   \n",
       "4                     2  ...                         0   \n",
       "\n",
       "   JobRole_Research Scientist  JobRole_Sales Executive  \\\n",
       "0                           0                        1   \n",
       "1                           1                        0   \n",
       "2                           0                        0   \n",
       "3                           1                        0   \n",
       "4                           0                        0   \n",
       "\n",
       "   JobRole_Sales Representative  OverTime_No  OverTime_Yes  \\\n",
       "0                             0            0             1   \n",
       "1                             0            1             0   \n",
       "2                             0            0             1   \n",
       "3                             0            0             1   \n",
       "4                             0            1             0   \n",
       "\n",
       "   StockOptionLevel_0  StockOptionLevel_1  StockOptionLevel_2  \\\n",
       "0                   1                   0                   0   \n",
       "1                   0                   1                   0   \n",
       "2                   1                   0                   0   \n",
       "3                   1                   0                   0   \n",
       "4                   0                   1                   0   \n",
       "\n",
       "   StockOptionLevel_3  \n",
       "0                   0  \n",
       "1                   0  \n",
       "2                   0  \n",
       "3                   0  \n",
       "4                   0  \n",
       "\n",
       "[5 rows x 35 columns]"
      ]
     },
     "execution_count": 110,
     "metadata": {},
     "output_type": "execute_result"
    }
   ],
   "source": [
    "newdf.head()"
   ]
  },
  {
   "cell_type": "markdown",
   "metadata": {},
   "source": [
    "### Removing redundant onehot encoded variables"
   ]
  },
  {
   "cell_type": "code",
   "execution_count": 111,
   "metadata": {},
   "outputs": [
    {
     "data": {
      "text/plain": [
       "(1470, 35)"
      ]
     },
     "execution_count": 111,
     "metadata": {},
     "output_type": "execute_result"
    }
   ],
   "source": [
    "newdf.shape"
   ]
  },
  {
   "cell_type": "code",
   "execution_count": 112,
   "metadata": {},
   "outputs": [
    {
     "data": {
      "text/plain": [
       "Index(['Age', 'DistanceFromHome', 'JobInvolvement', 'JobLevel',\n",
       "       'MonthlyIncome', 'TotalWorkingYears', 'WorkLifeBalance',\n",
       "       'YearsAtCompany', 'YearsInCurrentRole', 'YearsWithCurrManager',\n",
       "       'Attrition', 'BusinessTravel_Non-Travel',\n",
       "       'BusinessTravel_Travel_Frequently', 'BusinessTravel_Travel_Rarely',\n",
       "       'EducationField_Human Resources', 'EducationField_Life Sciences',\n",
       "       'EducationField_Marketing', 'EducationField_Medical',\n",
       "       'EducationField_Other', 'EducationField_Technical Degree',\n",
       "       'JobRole_Healthcare Representative', 'JobRole_Human Resources',\n",
       "       'JobRole_Laboratory Technician', 'JobRole_Manager',\n",
       "       'JobRole_Manufacturing Director', 'JobRole_Research Director',\n",
       "       'JobRole_Research Scientist', 'JobRole_Sales Executive',\n",
       "       'JobRole_Sales Representative', 'OverTime_No', 'OverTime_Yes',\n",
       "       'StockOptionLevel_0', 'StockOptionLevel_1', 'StockOptionLevel_2',\n",
       "       'StockOptionLevel_3'],\n",
       "      dtype='object')"
      ]
     },
     "execution_count": 112,
     "metadata": {},
     "output_type": "execute_result"
    }
   ],
   "source": [
    "newdf.columns"
   ]
  },
  {
   "cell_type": "code",
   "execution_count": 113,
   "metadata": {},
   "outputs": [],
   "source": [
    "newdf = newdf.drop(['BusinessTravel_Travel_Rarely','EducationField_Other','JobRole_Sales Representative','OverTime_No','StockOptionLevel_0'], axis = 1)"
   ]
  },
  {
   "cell_type": "code",
   "execution_count": 114,
   "metadata": {},
   "outputs": [
    {
     "data": {
      "text/plain": [
       "(1470, 30)"
      ]
     },
     "execution_count": 114,
     "metadata": {},
     "output_type": "execute_result"
    }
   ],
   "source": [
    "newdf.shape"
   ]
  },
  {
   "cell_type": "code",
   "execution_count": 115,
   "metadata": {},
   "outputs": [
    {
     "name": "stdout",
     "output_type": "stream",
     "text": [
      "<class 'pandas.core.frame.DataFrame'>\n",
      "RangeIndex: 1470 entries, 0 to 1469\n",
      "Data columns (total 30 columns):\n",
      " #   Column                             Non-Null Count  Dtype \n",
      "---  ------                             --------------  ----- \n",
      " 0   Age                                1470 non-null   int64 \n",
      " 1   DistanceFromHome                   1470 non-null   int64 \n",
      " 2   JobInvolvement                     1470 non-null   int64 \n",
      " 3   JobLevel                           1470 non-null   int64 \n",
      " 4   MonthlyIncome                      1470 non-null   int64 \n",
      " 5   TotalWorkingYears                  1470 non-null   int64 \n",
      " 6   WorkLifeBalance                    1470 non-null   int64 \n",
      " 7   YearsAtCompany                     1470 non-null   int64 \n",
      " 8   YearsInCurrentRole                 1470 non-null   int64 \n",
      " 9   YearsWithCurrManager               1470 non-null   int64 \n",
      " 10  Attrition                          1470 non-null   object\n",
      " 11  BusinessTravel_Non-Travel          1470 non-null   uint8 \n",
      " 12  BusinessTravel_Travel_Frequently   1470 non-null   uint8 \n",
      " 13  EducationField_Human Resources     1470 non-null   uint8 \n",
      " 14  EducationField_Life Sciences       1470 non-null   uint8 \n",
      " 15  EducationField_Marketing           1470 non-null   uint8 \n",
      " 16  EducationField_Medical             1470 non-null   uint8 \n",
      " 17  EducationField_Technical Degree    1470 non-null   uint8 \n",
      " 18  JobRole_Healthcare Representative  1470 non-null   uint8 \n",
      " 19  JobRole_Human Resources            1470 non-null   uint8 \n",
      " 20  JobRole_Laboratory Technician      1470 non-null   uint8 \n",
      " 21  JobRole_Manager                    1470 non-null   uint8 \n",
      " 22  JobRole_Manufacturing Director     1470 non-null   uint8 \n",
      " 23  JobRole_Research Director          1470 non-null   uint8 \n",
      " 24  JobRole_Research Scientist         1470 non-null   uint8 \n",
      " 25  JobRole_Sales Executive            1470 non-null   uint8 \n",
      " 26  OverTime_Yes                       1470 non-null   uint8 \n",
      " 27  StockOptionLevel_1                 1470 non-null   uint8 \n",
      " 28  StockOptionLevel_2                 1470 non-null   uint8 \n",
      " 29  StockOptionLevel_3                 1470 non-null   uint8 \n",
      "dtypes: int64(10), object(1), uint8(19)\n",
      "memory usage: 153.7+ KB\n"
     ]
    }
   ],
   "source": [
    "newdf.info()"
   ]
  },
  {
   "cell_type": "code",
   "execution_count": 116,
   "metadata": {},
   "outputs": [],
   "source": [
    "## Segregating Predictor variables from Taget Variable\n",
    "\n",
    "X = newdf.drop('Attrition',axis=1)\n",
    "y = newdf['Attrition']"
   ]
  },
  {
   "cell_type": "code",
   "execution_count": 117,
   "metadata": {},
   "outputs": [
    {
     "data": {
      "text/plain": [
       "No     1233\n",
       "Yes     237\n",
       "Name: Attrition, dtype: int64"
      ]
     },
     "execution_count": 117,
     "metadata": {},
     "output_type": "execute_result"
    }
   ],
   "source": [
    "## Checking class imbalance for the target variable\n",
    "\n",
    "y.value_counts()"
   ]
  },
  {
   "cell_type": "markdown",
   "metadata": {},
   "source": [
    "##### We see that this is a case of imbalanced classes therefore we need to synthetically oversample the minority class"
   ]
  },
  {
   "cell_type": "code",
   "execution_count": 118,
   "metadata": {},
   "outputs": [
    {
     "name": "stdout",
     "output_type": "stream",
     "text": [
      "No     1233\n",
      "Yes     237\n",
      "Name: Attrition, dtype: int64\n",
      "No     1233\n",
      "Yes    1233\n",
      "Name: Attrition, dtype: int64\n"
     ]
    }
   ],
   "source": [
    "## Using SMOTE (Synthetic Minority Oversampling Technique) to oversample.\n",
    "## importing library\n",
    "\n",
    "from imblearn.over_sampling import SMOTE\n",
    "\n",
    "smote = SMOTE()\n",
    "\n",
    "# fit predictor and target variable\n",
    "X_new, y_new = smote.fit_resample(X, y) \n",
    "\n",
    "print(y.value_counts())\n",
    "print(y_new.value_counts())"
   ]
  },
  {
   "cell_type": "code",
   "execution_count": 119,
   "metadata": {},
   "outputs": [
    {
     "data": {
      "text/plain": [
       "No     0.5\n",
       "Yes    0.5\n",
       "Name: Attrition, dtype: float64"
      ]
     },
     "execution_count": 119,
     "metadata": {},
     "output_type": "execute_result"
    }
   ],
   "source": [
    "## Checking for Target balancing (percentage)\n",
    "\n",
    "y_new.value_counts(1)"
   ]
  },
  {
   "cell_type": "code",
   "execution_count": 120,
   "metadata": {},
   "outputs": [],
   "source": [
    "## Train-Test Split\n",
    "\n",
    "X_train, X_test, y_train, y_test = train_test_split(X_new,y_new,test_size = 0.3, random_state=0)"
   ]
  },
  {
   "cell_type": "code",
   "execution_count": 121,
   "metadata": {},
   "outputs": [
    {
     "name": "stdout",
     "output_type": "stream",
     "text": [
      "percentage of employees with attrition = yes in original data set is 16.12 percent\n",
      "percentage of employees with attrition = yes in train set is 49.65 percent\n",
      "percentage of employees with attrition = yes in test set is 49.19 percent\n"
     ]
    }
   ],
   "source": [
    "## Checking if train and test data have similar characterstics as original data\n",
    "\n",
    "print(f'percentage of employees with attrition = yes in original data set is {round(100*y.value_counts(1)[1],2)} percent')\n",
    "print(f'percentage of employees with attrition = yes in train set is {round(100*y_train.value_counts(1)[1],2)} percent')\n",
    "print(f'percentage of employees with attrition = yes in test set is {round(100*y_test.value_counts(1)[1],2)} percent')"
   ]
  },
  {
   "cell_type": "markdown",
   "metadata": {},
   "source": [
    "##### We see that the percentage of churn = yes is similar for the original dataset, the train set and the test set"
   ]
  },
  {
   "cell_type": "markdown",
   "metadata": {},
   "source": [
    "# \n",
    "\n",
    "# Model Training Testing and Tuning"
   ]
  },
  {
   "cell_type": "markdown",
   "metadata": {},
   "source": [
    "##### Logistic Regression"
   ]
  },
  {
   "cell_type": "code",
   "execution_count": 122,
   "metadata": {},
   "outputs": [],
   "source": [
    "model_lr = LogisticRegression()"
   ]
  },
  {
   "cell_type": "code",
   "execution_count": 123,
   "metadata": {},
   "outputs": [
    {
     "data": {
      "text/plain": [
       "LogisticRegression()"
      ]
     },
     "execution_count": 123,
     "metadata": {},
     "output_type": "execute_result"
    }
   ],
   "source": [
    "model_lr.fit(X_train,y_train)"
   ]
  },
  {
   "cell_type": "code",
   "execution_count": 124,
   "metadata": {},
   "outputs": [
    {
     "data": {
      "text/plain": [
       "(0.7103128621089224, 0.7027027027027027)"
      ]
     },
     "execution_count": 124,
     "metadata": {},
     "output_type": "execute_result"
    }
   ],
   "source": [
    "model_lr.score(X_train,y_train), model_lr.score(X_test,y_test)"
   ]
  },
  {
   "cell_type": "code",
   "execution_count": null,
   "metadata": {},
   "outputs": [],
   "source": []
  },
  {
   "cell_type": "markdown",
   "metadata": {},
   "source": [
    "##### Random Forest "
   ]
  },
  {
   "cell_type": "code",
   "execution_count": 125,
   "metadata": {},
   "outputs": [],
   "source": [
    "model_RF = RandomForestClassifier(random_state=42)"
   ]
  },
  {
   "cell_type": "code",
   "execution_count": 126,
   "metadata": {},
   "outputs": [
    {
     "data": {
      "text/plain": [
       "RandomForestClassifier(random_state=42)"
      ]
     },
     "execution_count": 126,
     "metadata": {},
     "output_type": "execute_result"
    }
   ],
   "source": [
    "model_RF.fit(X_train,y_train)"
   ]
  },
  {
   "cell_type": "code",
   "execution_count": 127,
   "metadata": {},
   "outputs": [],
   "source": [
    "RF_test_score = model_RF.score(X_test,y_test)"
   ]
  },
  {
   "cell_type": "code",
   "execution_count": 128,
   "metadata": {},
   "outputs": [],
   "source": [
    "RF_train_score = model_RF.score(X_train,y_train)"
   ]
  },
  {
   "cell_type": "code",
   "execution_count": 129,
   "metadata": {},
   "outputs": [
    {
     "data": {
      "text/plain": [
       "(1.0, 0.8878378378378379)"
      ]
     },
     "execution_count": 129,
     "metadata": {},
     "output_type": "execute_result"
    }
   ],
   "source": [
    "RF_train_score,RF_test_score"
   ]
  },
  {
   "cell_type": "markdown",
   "metadata": {},
   "source": [
    "##### Bagging Classifier - with Decision Tree base estimator"
   ]
  },
  {
   "cell_type": "code",
   "execution_count": 130,
   "metadata": {},
   "outputs": [],
   "source": [
    "model_bagging = BaggingClassifier(random_state=42)"
   ]
  },
  {
   "cell_type": "code",
   "execution_count": 131,
   "metadata": {},
   "outputs": [
    {
     "data": {
      "text/plain": [
       "BaggingClassifier(random_state=42)"
      ]
     },
     "execution_count": 131,
     "metadata": {},
     "output_type": "execute_result"
    }
   ],
   "source": [
    "model_bagging.fit(X_train,y_train)"
   ]
  },
  {
   "cell_type": "code",
   "execution_count": 132,
   "metadata": {},
   "outputs": [],
   "source": [
    "BAG_test_score = model_bagging.score(X_test,y_test)"
   ]
  },
  {
   "cell_type": "code",
   "execution_count": 133,
   "metadata": {},
   "outputs": [],
   "source": [
    "BAG_train_score = model_bagging.score(X_train,y_train)"
   ]
  },
  {
   "cell_type": "code",
   "execution_count": 134,
   "metadata": {},
   "outputs": [
    {
     "data": {
      "text/plain": [
       "(0.9942062572421785, 0.8621621621621621)"
      ]
     },
     "execution_count": 134,
     "metadata": {},
     "output_type": "execute_result"
    }
   ],
   "source": [
    "BAG_train_score,BAG_test_score"
   ]
  },
  {
   "cell_type": "markdown",
   "metadata": {},
   "source": [
    "##### AdaBoost"
   ]
  },
  {
   "cell_type": "code",
   "execution_count": 135,
   "metadata": {},
   "outputs": [],
   "source": [
    "model_adaboost = AdaBoostClassifier(random_state=42)"
   ]
  },
  {
   "cell_type": "code",
   "execution_count": 136,
   "metadata": {},
   "outputs": [
    {
     "data": {
      "text/plain": [
       "AdaBoostClassifier(random_state=42)"
      ]
     },
     "execution_count": 136,
     "metadata": {},
     "output_type": "execute_result"
    }
   ],
   "source": [
    "model_adaboost.fit(X_train,y_train)"
   ]
  },
  {
   "cell_type": "code",
   "execution_count": 137,
   "metadata": {},
   "outputs": [],
   "source": [
    "ADA_test_score = model_adaboost.score(X_test,y_test)"
   ]
  },
  {
   "cell_type": "code",
   "execution_count": 138,
   "metadata": {},
   "outputs": [],
   "source": [
    "ADA_train_score = model_adaboost.score(X_train,y_train)"
   ]
  },
  {
   "cell_type": "code",
   "execution_count": 139,
   "metadata": {},
   "outputs": [
    {
     "data": {
      "text/plain": [
       "(0.8951332560834299, 0.8770270270270271)"
      ]
     },
     "execution_count": 139,
     "metadata": {},
     "output_type": "execute_result"
    }
   ],
   "source": [
    "ADA_train_score, ADA_test_score"
   ]
  },
  {
   "cell_type": "markdown",
   "metadata": {},
   "source": [
    "##### Gradient Boosting"
   ]
  },
  {
   "cell_type": "code",
   "execution_count": 140,
   "metadata": {},
   "outputs": [],
   "source": [
    "model_gradboost = GradientBoostingClassifier(random_state=42)"
   ]
  },
  {
   "cell_type": "code",
   "execution_count": 141,
   "metadata": {},
   "outputs": [
    {
     "data": {
      "text/plain": [
       "GradientBoostingClassifier(random_state=42)"
      ]
     },
     "execution_count": 141,
     "metadata": {},
     "output_type": "execute_result"
    }
   ],
   "source": [
    "model_gradboost.fit(X_train,y_train)"
   ]
  },
  {
   "cell_type": "code",
   "execution_count": 142,
   "metadata": {},
   "outputs": [],
   "source": [
    "GRAD_test_score = model_gradboost.score(X_test,y_test)"
   ]
  },
  {
   "cell_type": "code",
   "execution_count": 143,
   "metadata": {},
   "outputs": [],
   "source": [
    "GRAD_train_score = model_gradboost.score(X_train,y_train)"
   ]
  },
  {
   "cell_type": "code",
   "execution_count": 144,
   "metadata": {},
   "outputs": [
    {
     "data": {
      "text/plain": [
       "(0.9420625724217845, 0.8783783783783784)"
      ]
     },
     "execution_count": 144,
     "metadata": {},
     "output_type": "execute_result"
    }
   ],
   "source": [
    "GRAD_train_score, GRAD_test_score"
   ]
  },
  {
   "cell_type": "markdown",
   "metadata": {},
   "source": [
    "##### XGBoost"
   ]
  },
  {
   "cell_type": "code",
   "execution_count": 145,
   "metadata": {},
   "outputs": [],
   "source": [
    "model_xgb = XGBClassifier(random_state = 42)"
   ]
  },
  {
   "cell_type": "code",
   "execution_count": 146,
   "metadata": {},
   "outputs": [
    {
     "name": "stdout",
     "output_type": "stream",
     "text": [
      "[16:28:02] WARNING: C:/Users/Administrator/workspace/xgboost-win64_release_1.4.0/src/learner.cc:1095: Starting in XGBoost 1.3.0, the default evaluation metric used with the objective 'binary:logistic' was changed from 'error' to 'logloss'. Explicitly set eval_metric if you'd like to restore the old behavior.\n"
     ]
    },
    {
     "data": {
      "text/plain": [
       "XGBClassifier(base_score=0.5, booster='gbtree', colsample_bylevel=1,\n",
       "              colsample_bynode=1, colsample_bytree=1, gamma=0, gpu_id=-1,\n",
       "              importance_type='gain', interaction_constraints='',\n",
       "              learning_rate=0.300000012, max_delta_step=0, max_depth=6,\n",
       "              min_child_weight=1, missing=nan, monotone_constraints='()',\n",
       "              n_estimators=100, n_jobs=8, num_parallel_tree=1, random_state=42,\n",
       "              reg_alpha=0, reg_lambda=1, scale_pos_weight=1, subsample=1,\n",
       "              tree_method='exact', validate_parameters=1, verbosity=None)"
      ]
     },
     "execution_count": 146,
     "metadata": {},
     "output_type": "execute_result"
    }
   ],
   "source": [
    "model_xgb.fit(X_train,y_train)"
   ]
  },
  {
   "cell_type": "code",
   "execution_count": 147,
   "metadata": {},
   "outputs": [],
   "source": [
    "XGB_test_score = model_xgb.score(X_test,y_test)"
   ]
  },
  {
   "cell_type": "code",
   "execution_count": 148,
   "metadata": {},
   "outputs": [],
   "source": [
    "XGB_train_score = model_xgb.score(X_train,y_train)"
   ]
  },
  {
   "cell_type": "code",
   "execution_count": 149,
   "metadata": {},
   "outputs": [
    {
     "data": {
      "text/plain": [
       "(1.0, 0.9)"
      ]
     },
     "execution_count": 149,
     "metadata": {},
     "output_type": "execute_result"
    }
   ],
   "source": [
    "XGB_train_score, XGB_test_score"
   ]
  },
  {
   "cell_type": "code",
   "execution_count": 150,
   "metadata": {},
   "outputs": [],
   "source": [
    "## Predicting the target variable in the test set with the best Random Forest Model\n",
    "\n",
    "y_pred_rf = model_RF.predict(X_test)"
   ]
  },
  {
   "cell_type": "code",
   "execution_count": 151,
   "metadata": {},
   "outputs": [
    {
     "data": {
      "image/png": "[encoded data removed]",
      "text/plain": [
       "<Figure size 360x288 with 2 Axes>"
      ]
     },
     "metadata": {
      "needs_background": "light"
     },
     "output_type": "display_data"
    }
   ],
   "source": [
    "## Drawing up the confusion matrix for the Random Forest Model\n",
    "\n",
    "lab = ['Yes', 'No']\n",
    "plab = ['Pred Yes', 'Pred No']\n",
    "cm = confusion_matrix(y_test.values,y_pred_rf,labels = lab)\n",
    "\n",
    "df_cm = pd.DataFrame(cm, index = [i for i in lab], columns = [i for i in plab])\n",
    "plt.figure(figsize = (5,4))\n",
    "sns.heatmap(df_cm ,annot=True, fmt = 'g');"
   ]
  },
  {
   "cell_type": "code",
   "execution_count": 152,
   "metadata": {},
   "outputs": [
    {
     "name": "stdout",
     "output_type": "stream",
     "text": [
      "              precision    recall  f1-score   support\n",
      "\n",
      "          No       0.89      0.89      0.89       376\n",
      "         Yes       0.89      0.88      0.89       364\n",
      "\n",
      "    accuracy                           0.89       740\n",
      "   macro avg       0.89      0.89      0.89       740\n",
      "weighted avg       0.89      0.89      0.89       740\n",
      "\n"
     ]
    }
   ],
   "source": [
    "## Printing the classification report for the best Random Forest Model\n",
    "\n",
    "print(classification_report(y_test.values,y_pred_rf))"
   ]
  },
  {
   "cell_type": "code",
   "execution_count": 153,
   "metadata": {},
   "outputs": [],
   "source": [
    "y_pred_xgb = model_xgb.predict(X_test)"
   ]
  },
  {
   "cell_type": "code",
   "execution_count": 154,
   "metadata": {},
   "outputs": [
    {
     "data": {
      "image/png": "[encoded data removed]",
      "text/plain": [
       "<Figure size 360x288 with 2 Axes>"
      ]
     },
     "metadata": {
      "needs_background": "light"
     },
     "output_type": "display_data"
    }
   ],
   "source": [
    "## Drawing up the confusion matrix for the XGBoost Model\n",
    "\n",
    "lab = ['Yes', 'No']\n",
    "plab = ['Pred Yes', 'Pred No']\n",
    "cm = confusion_matrix(y_test.values,y_pred_xgb,labels = lab)\n",
    "\n",
    "df_cm = pd.DataFrame(cm, index = [i for i in lab], columns = [i for i in plab])\n",
    "plt.figure(figsize = (5,4))\n",
    "sns.heatmap(df_cm ,annot=True, fmt = 'g');"
   ]
  },
  {
   "cell_type": "code",
   "execution_count": 155,
   "metadata": {},
   "outputs": [
    {
     "name": "stdout",
     "output_type": "stream",
     "text": [
      "              precision    recall  f1-score   support\n",
      "\n",
      "          No       0.89      0.91      0.90       376\n",
      "         Yes       0.91      0.88      0.90       364\n",
      "\n",
      "    accuracy                           0.90       740\n",
      "   macro avg       0.90      0.90      0.90       740\n",
      "weighted avg       0.90      0.90      0.90       740\n",
      "\n"
     ]
    }
   ],
   "source": [
    "## Printing the classification report for the best Random Forest Model\n",
    "\n",
    "print(classification_report(y_test.values,y_pred_xgb))"
   ]
  },
  {
   "cell_type": "code",
   "execution_count": null,
   "metadata": {},
   "outputs": [],
   "source": []
  }
 ],
 "metadata": {
  "kernelspec": {
   "display_name": "Python 3",
   "language": "python",
   "name": "python3"
  },
  "language_info": {
   "codemirror_mode": {
    "name": "ipython",
    "version": 3
   },
   "file_extension": ".py",
   "mimetype": "text/x-python",
   "name": "python",
   "nbconvert_exporter": "python",
   "pygments_lexer": "ipython3",
   "version": "3.7.3"
  }
 },
 "nbformat": 4,
 "nbformat_minor": 4
}
